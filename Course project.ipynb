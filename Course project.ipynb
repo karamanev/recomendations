{
 "cells": [
  {
   "cell_type": "code",
   "execution_count": 1,
   "metadata": {},
   "outputs": [],
   "source": [
    "%matplotlib inline"
   ]
  },
  {
   "cell_type": "code",
   "execution_count": 100,
   "metadata": {},
   "outputs": [],
   "source": [
    "import pandas as pd\n",
    "import numpy as np\n",
    "import math\n",
    "import re\n",
    "from scipy.sparse import csr_matrix\n",
    "import matplotlib.pyplot as plt\n",
    "import seaborn as sns\n",
    "from surprise import Reader, Dataset, SVD\n",
    "from surprise.model_selection import KFold, cross_validate\n",
    "from sklearn.model_selection import train_test_split, GridSearchCV\n",
    "from sklearn.preprocessing import MinMaxScaler\n",
    "from sklearn.linear_model import LinearRegression\n",
    "\n",
    "# from surprise import evaluate \n",
    "from surprise.model_selection.validation import cross_validate\n",
    "\n",
    "sns.set_style(\"darkgrid\")"
   ]
  },
  {
   "cell_type": "markdown",
   "metadata": {},
   "source": [
    "# ИИ, препоръчай ми филм!\n",
    "\n",
    "### Как работят основните machine learning алгоритми и какво е влиянието на балона на филтрите\n",
    "\n"
   ]
  },
  {
   "cell_type": "markdown",
   "metadata": {},
   "source": [
    "## Резюме\n",
    "\n",
    "<b> Алгоритмите за машинно самообучение, свързани с препоръчване </b> са едни от най-използваните прилложения, още от зараждането на това направление. \n",
    "\n",
    "Разработката тук е свързана с [журналистически материал, който предстои да бъде публикуван](https://docs.google.com/document/d/134zZr_pZLMu49uEu0ppKht0ytunXujS5IIcL5bi5kiU/edit?usp=sharing) на сайта „Дигитални истории“, разказваща накратко за основните направления в областта на алгоритмите за препоръчване.\n",
    "\n",
    "Основните подходи са два: колаборативно филтриране и филтриране, базирано на съдържанието. В по-модерните решения се използва своеобразна комбинация,така че да се използват силните страни и на двата подхода. \n",
    "\n",
    "Колаборация, или сътрудничество, ще рече, че хората работят заедно, за да постигнат даден резултат. Това стои в основата на колаборативното филтриране. Същият принцип, който споменахме и продължаваме да използваме и днес. А на езика на продажбите: „Хората, които купиха…, купиха и…“. Целта на алгоритмите в този случай е да обработи данните така, че максимално да потърси общите черти в избора на различните потребители, така че да изведе общите точки.\n",
    "\n",
    "Като цяло подходът е следният. Алгоритъмът събира хората, които са давали максимално близки рейтинги, както потребителя, на когото ще препоръчваме. После данните се използват, за да се изчисли колко е вероятно хората със сходен вкус да харесат и друг продукт от същата група. Измежду хората, харесали любимите ви филми, да намерим средните показатели за следващия филм и да видим кои са най-високи. Като, разбира се, опитаме да игнорираме например филмите, които имат твърде малко оценки, потребителите, които дават твърде разнопосочни числа. Или, т.нар. „пристрастие“, което в света на технологиите общо взето всички наричат с английския термин “bias”.\n",
    "\n",
    "Филтрирането, базирано на съдържание, обръща наобратно перспективата, базирайки се на отделните единици, нека в случая използваме филми. Сравняват се оценките на потребителите за всяка двойка филми и на базата на това се определя какъв би бил рейтингът на този, който още не е гледал втория филм.\n",
    "\n",
    "Една от компаниите пионери в тази област и същевременно доказано най-успешна в нея, е „Нетфликс“. Именно това, което се знае за техните алгоритми ще разгледаме в настоящия проект."
   ]
  },
  {
   "cell_type": "code",
   "execution_count": 6,
   "metadata": {},
   "outputs": [],
   "source": [
    "def readFile(file_path, rows=100000):\n",
    "    data_dict = {'Cust_Id' : [], 'Movie_Id' : [], 'Rating' : [], 'Date' : []}\n",
    "    f = open(file_path, \"r\")\n",
    "    count = 0\n",
    "    for line in f:\n",
    "        count += 1\n",
    "        if count > rows:\n",
    "            break\n",
    "            \n",
    "        if ':' in line:\n",
    "            movidId = line[:-2] # remove the last character ':'\n",
    "            movieId = int(movidId)\n",
    "        else:\n",
    "            customerID, rating, date = line.split(',')\n",
    "            data_dict['Cust_Id'].append(customerID)\n",
    "            data_dict['Movie_Id'].append(movieId)\n",
    "            data_dict['Rating'].append(rating)\n",
    "            data_dict['Date'].append(date.rstrip(\"\\n\"))\n",
    "    f.close()\n",
    "            \n",
    "    return pd.DataFrame(data_dict)"
   ]
  },
  {
   "cell_type": "code",
   "execution_count": 8,
   "metadata": {},
   "outputs": [],
   "source": [
    "df = readFile('combined_data.txt', rows=100000)\n"
   ]
  },
  {
   "cell_type": "markdown",
   "metadata": {},
   "source": [
    "This dataset was constructed to support participants in the Netflix Prize.  See\n",
    "http://www.netflixprize.com for details about the prize.\n",
    "\n",
    "The movie rating files contain over 100 million ratings from 480 thousand\n",
    "randomly-chosen, anonymous Netflix customers over 17 thousand movie titles.  The\n",
    "data were collected between October, 1998 and December, 2005 and reflect the\n",
    "distribution of all ratings received during this period.  The ratings are on a\n",
    "scale from 1 to 5 (integral) stars. To protect customer privacy, each customer\n",
    "id has been replaced with a randomly-assigned id.  The date of each rating and\n",
    "the title and year of release for each movie id are also provided."
   ]
  },
  {
   "cell_type": "code",
   "execution_count": 9,
   "metadata": {},
   "outputs": [
    {
     "data": {
      "text/html": [
       "<div>\n",
       "<style scoped>\n",
       "    .dataframe tbody tr th:only-of-type {\n",
       "        vertical-align: middle;\n",
       "    }\n",
       "\n",
       "    .dataframe tbody tr th {\n",
       "        vertical-align: top;\n",
       "    }\n",
       "\n",
       "    .dataframe thead th {\n",
       "        text-align: right;\n",
       "    }\n",
       "</style>\n",
       "<table border=\"1\" class=\"dataframe\">\n",
       "  <thead>\n",
       "    <tr style=\"text-align: right;\">\n",
       "      <th></th>\n",
       "      <th>Cust_Id</th>\n",
       "      <th>Movie_Id</th>\n",
       "      <th>Rating</th>\n",
       "      <th>Date</th>\n",
       "    </tr>\n",
       "  </thead>\n",
       "  <tbody>\n",
       "    <tr>\n",
       "      <th>0</th>\n",
       "      <td>2532865</td>\n",
       "      <td>4500</td>\n",
       "      <td>4</td>\n",
       "      <td>2005-07-26</td>\n",
       "    </tr>\n",
       "    <tr>\n",
       "      <th>1</th>\n",
       "      <td>573364</td>\n",
       "      <td>4500</td>\n",
       "      <td>3</td>\n",
       "      <td>2005-06-20</td>\n",
       "    </tr>\n",
       "    <tr>\n",
       "      <th>2</th>\n",
       "      <td>1696725</td>\n",
       "      <td>4500</td>\n",
       "      <td>3</td>\n",
       "      <td>2004-02-27</td>\n",
       "    </tr>\n",
       "    <tr>\n",
       "      <th>3</th>\n",
       "      <td>1253431</td>\n",
       "      <td>4500</td>\n",
       "      <td>3</td>\n",
       "      <td>2004-03-31</td>\n",
       "    </tr>\n",
       "    <tr>\n",
       "      <th>4</th>\n",
       "      <td>1265574</td>\n",
       "      <td>4500</td>\n",
       "      <td>2</td>\n",
       "      <td>2003-09-01</td>\n",
       "    </tr>\n",
       "  </tbody>\n",
       "</table>\n",
       "</div>"
      ],
      "text/plain": [
       "   Cust_Id  Movie_Id Rating        Date\n",
       "0  2532865      4500      4  2005-07-26\n",
       "1   573364      4500      3  2005-06-20\n",
       "2  1696725      4500      3  2004-02-27\n",
       "3  1253431      4500      3  2004-03-31\n",
       "4  1265574      4500      2  2003-09-01"
      ]
     },
     "execution_count": 9,
     "metadata": {},
     "output_type": "execute_result"
    }
   ],
   "source": [
    "df.head()"
   ]
  },
  {
   "cell_type": "code",
   "execution_count": 10,
   "metadata": {},
   "outputs": [
    {
     "data": {
      "text/html": [
       "<div>\n",
       "<style scoped>\n",
       "    .dataframe tbody tr th:only-of-type {\n",
       "        vertical-align: middle;\n",
       "    }\n",
       "\n",
       "    .dataframe tbody tr th {\n",
       "        vertical-align: top;\n",
       "    }\n",
       "\n",
       "    .dataframe thead th {\n",
       "        text-align: right;\n",
       "    }\n",
       "</style>\n",
       "<table border=\"1\" class=\"dataframe\">\n",
       "  <thead>\n",
       "    <tr style=\"text-align: right;\">\n",
       "      <th></th>\n",
       "      <th>count</th>\n",
       "      <th>mean</th>\n",
       "      <th>std</th>\n",
       "      <th>min</th>\n",
       "      <th>25%</th>\n",
       "      <th>50%</th>\n",
       "      <th>75%</th>\n",
       "      <th>max</th>\n",
       "    </tr>\n",
       "  </thead>\n",
       "  <tbody>\n",
       "    <tr>\n",
       "      <th>Movie_Id</th>\n",
       "      <td>99977.0</td>\n",
       "      <td>4512.6969</td>\n",
       "      <td>6.617195</td>\n",
       "      <td>4500.0</td>\n",
       "      <td>4506.0</td>\n",
       "      <td>4512.0</td>\n",
       "      <td>4520.0</td>\n",
       "      <td>4522.0</td>\n",
       "    </tr>\n",
       "  </tbody>\n",
       "</table>\n",
       "</div>"
      ],
      "text/plain": [
       "            count       mean       std     min     25%     50%     75%     max\n",
       "Movie_Id  99977.0  4512.6969  6.617195  4500.0  4506.0  4512.0  4520.0  4522.0"
      ]
     },
     "execution_count": 10,
     "metadata": {},
     "output_type": "execute_result"
    }
   ],
   "source": [
    "df.describe().T"
   ]
  },
  {
   "cell_type": "code",
   "execution_count": 11,
   "metadata": {},
   "outputs": [],
   "source": [
    "df['Rating'] = df['Rating'].astype(float)"
   ]
  },
  {
   "cell_type": "code",
   "execution_count": 12,
   "metadata": {},
   "outputs": [
    {
     "data": {
      "text/plain": [
       "(99977, 4)"
      ]
     },
     "execution_count": 12,
     "metadata": {},
     "output_type": "execute_result"
    }
   ],
   "source": [
    "df.index = np.arange(0,len(df))\n",
    "df.shape"
   ]
  },
  {
   "cell_type": "code",
   "execution_count": 90,
   "metadata": {},
   "outputs": [
    {
     "data": {
      "text/html": [
       "<div>\n",
       "<style scoped>\n",
       "    .dataframe tbody tr th:only-of-type {\n",
       "        vertical-align: middle;\n",
       "    }\n",
       "\n",
       "    .dataframe tbody tr th {\n",
       "        vertical-align: top;\n",
       "    }\n",
       "\n",
       "    .dataframe thead tr th {\n",
       "        text-align: left;\n",
       "    }\n",
       "\n",
       "    .dataframe thead tr:last-of-type th {\n",
       "        text-align: right;\n",
       "    }\n",
       "</style>\n",
       "<table border=\"1\" class=\"dataframe\">\n",
       "  <thead>\n",
       "    <tr>\n",
       "      <th></th>\n",
       "      <th>Cust_Id</th>\n",
       "      <th>Rating</th>\n",
       "      <th>Date</th>\n",
       "    </tr>\n",
       "    <tr>\n",
       "      <th></th>\n",
       "      <th>count</th>\n",
       "      <th>count</th>\n",
       "      <th>count</th>\n",
       "    </tr>\n",
       "    <tr>\n",
       "      <th>Movie_Id</th>\n",
       "      <th></th>\n",
       "      <th></th>\n",
       "      <th></th>\n",
       "    </tr>\n",
       "  </thead>\n",
       "  <tbody>\n",
       "    <tr>\n",
       "      <th>4500</th>\n",
       "      <td>258</td>\n",
       "      <td>258</td>\n",
       "      <td>258</td>\n",
       "    </tr>\n",
       "    <tr>\n",
       "      <th>4501</th>\n",
       "      <td>595</td>\n",
       "      <td>595</td>\n",
       "      <td>595</td>\n",
       "    </tr>\n",
       "    <tr>\n",
       "      <th>4502</th>\n",
       "      <td>104</td>\n",
       "      <td>104</td>\n",
       "      <td>104</td>\n",
       "    </tr>\n",
       "    <tr>\n",
       "      <th>4503</th>\n",
       "      <td>1779</td>\n",
       "      <td>1779</td>\n",
       "      <td>1779</td>\n",
       "    </tr>\n",
       "    <tr>\n",
       "      <th>4504</th>\n",
       "      <td>176</td>\n",
       "      <td>176</td>\n",
       "      <td>176</td>\n",
       "    </tr>\n",
       "    <tr>\n",
       "      <th>4505</th>\n",
       "      <td>238</td>\n",
       "      <td>238</td>\n",
       "      <td>238</td>\n",
       "    </tr>\n",
       "    <tr>\n",
       "      <th>4506</th>\n",
       "      <td>33731</td>\n",
       "      <td>33731</td>\n",
       "      <td>33731</td>\n",
       "    </tr>\n",
       "    <tr>\n",
       "      <th>4507</th>\n",
       "      <td>3445</td>\n",
       "      <td>3445</td>\n",
       "      <td>3445</td>\n",
       "    </tr>\n",
       "    <tr>\n",
       "      <th>4508</th>\n",
       "      <td>5939</td>\n",
       "      <td>5939</td>\n",
       "      <td>5939</td>\n",
       "    </tr>\n",
       "    <tr>\n",
       "      <th>4509</th>\n",
       "      <td>2516</td>\n",
       "      <td>2516</td>\n",
       "      <td>2516</td>\n",
       "    </tr>\n",
       "    <tr>\n",
       "      <th>4510</th>\n",
       "      <td>119</td>\n",
       "      <td>119</td>\n",
       "      <td>119</td>\n",
       "    </tr>\n",
       "    <tr>\n",
       "      <th>4511</th>\n",
       "      <td>237</td>\n",
       "      <td>237</td>\n",
       "      <td>237</td>\n",
       "    </tr>\n",
       "    <tr>\n",
       "      <th>4512</th>\n",
       "      <td>2656</td>\n",
       "      <td>2656</td>\n",
       "      <td>2656</td>\n",
       "    </tr>\n",
       "    <tr>\n",
       "      <th>4513</th>\n",
       "      <td>199</td>\n",
       "      <td>199</td>\n",
       "      <td>199</td>\n",
       "    </tr>\n",
       "    <tr>\n",
       "      <th>4514</th>\n",
       "      <td>131</td>\n",
       "      <td>131</td>\n",
       "      <td>131</td>\n",
       "    </tr>\n",
       "    <tr>\n",
       "      <th>4515</th>\n",
       "      <td>2179</td>\n",
       "      <td>2179</td>\n",
       "      <td>2179</td>\n",
       "    </tr>\n",
       "    <tr>\n",
       "      <th>4516</th>\n",
       "      <td>1233</td>\n",
       "      <td>1233</td>\n",
       "      <td>1233</td>\n",
       "    </tr>\n",
       "    <tr>\n",
       "      <th>4517</th>\n",
       "      <td>8440</td>\n",
       "      <td>8440</td>\n",
       "      <td>8440</td>\n",
       "    </tr>\n",
       "    <tr>\n",
       "      <th>4518</th>\n",
       "      <td>235</td>\n",
       "      <td>235</td>\n",
       "      <td>235</td>\n",
       "    </tr>\n",
       "    <tr>\n",
       "      <th>4519</th>\n",
       "      <td>2806</td>\n",
       "      <td>2806</td>\n",
       "      <td>2806</td>\n",
       "    </tr>\n",
       "    <tr>\n",
       "      <th>4520</th>\n",
       "      <td>26500</td>\n",
       "      <td>26500</td>\n",
       "      <td>26500</td>\n",
       "    </tr>\n",
       "    <tr>\n",
       "      <th>4521</th>\n",
       "      <td>962</td>\n",
       "      <td>962</td>\n",
       "      <td>962</td>\n",
       "    </tr>\n",
       "    <tr>\n",
       "      <th>4522</th>\n",
       "      <td>5499</td>\n",
       "      <td>5499</td>\n",
       "      <td>5499</td>\n",
       "    </tr>\n",
       "  </tbody>\n",
       "</table>\n",
       "</div>"
      ],
      "text/plain": [
       "         Cust_Id Rating   Date\n",
       "           count  count  count\n",
       "Movie_Id                      \n",
       "4500         258    258    258\n",
       "4501         595    595    595\n",
       "4502         104    104    104\n",
       "4503        1779   1779   1779\n",
       "4504         176    176    176\n",
       "4505         238    238    238\n",
       "4506       33731  33731  33731\n",
       "4507        3445   3445   3445\n",
       "4508        5939   5939   5939\n",
       "4509        2516   2516   2516\n",
       "4510         119    119    119\n",
       "4511         237    237    237\n",
       "4512        2656   2656   2656\n",
       "4513         199    199    199\n",
       "4514         131    131    131\n",
       "4515        2179   2179   2179\n",
       "4516        1233   1233   1233\n",
       "4517        8440   8440   8440\n",
       "4518         235    235    235\n",
       "4519        2806   2806   2806\n",
       "4520       26500  26500  26500\n",
       "4521         962    962    962\n",
       "4522        5499   5499   5499"
      ]
     },
     "execution_count": 90,
     "metadata": {},
     "output_type": "execute_result"
    }
   ],
   "source": [
    "grouped_by_movies = df.groupby('Movie_Id').agg(['count'])\n",
    "movie_count = grouped_by_movies.shape[0]\n",
    "grouped_by_movies"
   ]
  },
  {
   "cell_type": "code",
   "execution_count": 91,
   "metadata": {},
   "outputs": [
    {
     "data": {
      "text/plain": [
       "4506    33731\n",
       "4520    26500\n",
       "4517     8440\n",
       "4508     5939\n",
       "4522     5499\n",
       "4507     3445\n",
       "4519     2806\n",
       "4512     2656\n",
       "4509     2516\n",
       "4515     2179\n",
       "4503     1779\n",
       "4516     1233\n",
       "4521      962\n",
       "4501      595\n",
       "4500      258\n",
       "4505      238\n",
       "4511      237\n",
       "4518      235\n",
       "4513      199\n",
       "4504      176\n",
       "4514      131\n",
       "4510      119\n",
       "4502      104\n",
       "Name: Movie_Id, dtype: int64"
      ]
     },
     "execution_count": 91,
     "metadata": {},
     "output_type": "execute_result"
    }
   ],
   "source": [
    "df['Movie_Id'].value_counts()\n"
   ]
  },
  {
   "cell_type": "code",
   "execution_count": 96,
   "metadata": {},
   "outputs": [
    {
     "data": {
      "image/png": "[encoded data removed]",
      "text/plain": [
       "<Figure size 1080x720 with 1 Axes>"
      ]
     },
     "metadata": {},
     "output_type": "display_data"
    }
   ],
   "source": [
    "ratings = df.groupby('Rating')['Rating'].agg(['count'])\n",
    "\n",
    "# get customer count\n",
    "cust_count = df['Cust_Id'].nunique() - movie_count\n",
    "\n",
    "# get rating count\n",
    "rating_count = df['Cust_Id'].count() - movie_count\n",
    "\n",
    "ax = ratings.plot(kind = 'barh', legend = False, figsize = (15,10))\n",
    "plt.title('Общо в данните: {:,} Брой филми, {:,} зрители, {:,} дадени рейтинги'.format(movie_count, cust_count, rating_count), fontsize=20)\n",
    "plt.axis('off')\n",
    "\n",
    "for i in range(1,6):\n",
    "    ax.text(ratings.iloc[i-1][0]/4, i-1, 'Rating {}: {:.0f}%'.format(i, ratings.iloc[i-1][0]*100 / ratings.sum()[0]), color = 'white', weight = 'bold')"
   ]
  },
  {
   "cell_type": "code",
   "execution_count": 86,
   "metadata": {},
   "outputs": [
    {
     "data": {
      "text/html": [
       "<div>\n",
       "<style scoped>\n",
       "    .dataframe tbody tr th:only-of-type {\n",
       "        vertical-align: middle;\n",
       "    }\n",
       "\n",
       "    .dataframe tbody tr th {\n",
       "        vertical-align: top;\n",
       "    }\n",
       "\n",
       "    .dataframe thead th {\n",
       "        text-align: right;\n",
       "    }\n",
       "</style>\n",
       "<table border=\"1\" class=\"dataframe\">\n",
       "  <thead>\n",
       "    <tr style=\"text-align: right;\">\n",
       "      <th></th>\n",
       "      <th>count</th>\n",
       "      <th>mean</th>\n",
       "    </tr>\n",
       "    <tr>\n",
       "      <th>Movie_Id</th>\n",
       "      <th></th>\n",
       "      <th></th>\n",
       "    </tr>\n",
       "  </thead>\n",
       "  <tbody>\n",
       "    <tr>\n",
       "      <th>4500</th>\n",
       "      <td>258</td>\n",
       "      <td>3.329457</td>\n",
       "    </tr>\n",
       "    <tr>\n",
       "      <th>4501</th>\n",
       "      <td>595</td>\n",
       "      <td>3.043697</td>\n",
       "    </tr>\n",
       "    <tr>\n",
       "      <th>4502</th>\n",
       "      <td>104</td>\n",
       "      <td>2.144231</td>\n",
       "    </tr>\n",
       "    <tr>\n",
       "      <th>4503</th>\n",
       "      <td>1779</td>\n",
       "      <td>3.213603</td>\n",
       "    </tr>\n",
       "    <tr>\n",
       "      <th>4504</th>\n",
       "      <td>176</td>\n",
       "      <td>3.153409</td>\n",
       "    </tr>\n",
       "    <tr>\n",
       "      <th>4505</th>\n",
       "      <td>238</td>\n",
       "      <td>2.470588</td>\n",
       "    </tr>\n",
       "    <tr>\n",
       "      <th>4506</th>\n",
       "      <td>33731</td>\n",
       "      <td>3.923898</td>\n",
       "    </tr>\n",
       "    <tr>\n",
       "      <th>4507</th>\n",
       "      <td>3445</td>\n",
       "      <td>3.546299</td>\n",
       "    </tr>\n",
       "    <tr>\n",
       "      <th>4508</th>\n",
       "      <td>5939</td>\n",
       "      <td>3.731436</td>\n",
       "    </tr>\n",
       "    <tr>\n",
       "      <th>4509</th>\n",
       "      <td>2516</td>\n",
       "      <td>4.033784</td>\n",
       "    </tr>\n",
       "    <tr>\n",
       "      <th>4510</th>\n",
       "      <td>119</td>\n",
       "      <td>2.907563</td>\n",
       "    </tr>\n",
       "    <tr>\n",
       "      <th>4511</th>\n",
       "      <td>237</td>\n",
       "      <td>2.886076</td>\n",
       "    </tr>\n",
       "    <tr>\n",
       "      <th>4512</th>\n",
       "      <td>2656</td>\n",
       "      <td>2.748117</td>\n",
       "    </tr>\n",
       "    <tr>\n",
       "      <th>4513</th>\n",
       "      <td>199</td>\n",
       "      <td>3.507538</td>\n",
       "    </tr>\n",
       "    <tr>\n",
       "      <th>4514</th>\n",
       "      <td>131</td>\n",
       "      <td>2.358779</td>\n",
       "    </tr>\n",
       "    <tr>\n",
       "      <th>4515</th>\n",
       "      <td>2179</td>\n",
       "      <td>3.271225</td>\n",
       "    </tr>\n",
       "    <tr>\n",
       "      <th>4516</th>\n",
       "      <td>1233</td>\n",
       "      <td>3.607461</td>\n",
       "    </tr>\n",
       "    <tr>\n",
       "      <th>4517</th>\n",
       "      <td>8440</td>\n",
       "      <td>3.050948</td>\n",
       "    </tr>\n",
       "    <tr>\n",
       "      <th>4518</th>\n",
       "      <td>235</td>\n",
       "      <td>3.412766</td>\n",
       "    </tr>\n",
       "    <tr>\n",
       "      <th>4519</th>\n",
       "      <td>2806</td>\n",
       "      <td>3.023521</td>\n",
       "    </tr>\n",
       "    <tr>\n",
       "      <th>4520</th>\n",
       "      <td>26500</td>\n",
       "      <td>3.676189</td>\n",
       "    </tr>\n",
       "    <tr>\n",
       "      <th>4521</th>\n",
       "      <td>962</td>\n",
       "      <td>3.965696</td>\n",
       "    </tr>\n",
       "    <tr>\n",
       "      <th>4522</th>\n",
       "      <td>5499</td>\n",
       "      <td>3.837061</td>\n",
       "    </tr>\n",
       "  </tbody>\n",
       "</table>\n",
       "</div>"
      ],
      "text/plain": [
       "          count      mean\n",
       "Movie_Id                 \n",
       "4500        258  3.329457\n",
       "4501        595  3.043697\n",
       "4502        104  2.144231\n",
       "4503       1779  3.213603\n",
       "4504        176  3.153409\n",
       "4505        238  2.470588\n",
       "4506      33731  3.923898\n",
       "4507       3445  3.546299\n",
       "4508       5939  3.731436\n",
       "4509       2516  4.033784\n",
       "4510        119  2.907563\n",
       "4511        237  2.886076\n",
       "4512       2656  2.748117\n",
       "4513        199  3.507538\n",
       "4514        131  2.358779\n",
       "4515       2179  3.271225\n",
       "4516       1233  3.607461\n",
       "4517       8440  3.050948\n",
       "4518        235  3.412766\n",
       "4519       2806  3.023521\n",
       "4520      26500  3.676189\n",
       "4521        962  3.965696\n",
       "4522       5499  3.837061"
      ]
     },
     "execution_count": 86,
     "metadata": {},
     "output_type": "execute_result"
    }
   ],
   "source": [
    "f = ['count','mean']\n",
    "df_movie_summary = df.groupby('Movie_Id')['Rating'].agg(f)\n",
    "df_movie_summary"
   ]
  },
  {
   "cell_type": "code",
   "execution_count": 87,
   "metadata": {},
   "outputs": [
    {
     "name": "stdout",
     "output_type": "stream",
     "text": [
      "Movie minimum times of review: 2716.0\n"
     ]
    }
   ],
   "source": [
    "df_movie_summary.index = df_movie_summary.index.map(int)\n",
    "movie_benchmark = round(df_movie_summary['count'].quantile(0.7),0)\n",
    "drop_movie_list = df_movie_summary[df_movie_summary['count'] < movie_benchmark].index\n",
    "print('Минимален брой ревюта на филм: {}'.format(movie_benchmark))"
   ]
  },
  {
   "cell_type": "code",
   "execution_count": 89,
   "metadata": {},
   "outputs": [
    {
     "name": "stdout",
     "output_type": "stream",
     "text": [
      "Минимален брой ревюта на потребител: 1.0\n"
     ]
    }
   ],
   "source": [
    "df_cust_summary = df.groupby('Cust_Id')['Rating'].agg(f)\n",
    "df_cust_summary.index = df_cust_summary.index.map(int)\n",
    "cust_benchmark = round(df_cust_summary['count'].quantile(0.7),0)\n",
    "drop_cust_list = df_cust_summary[df_cust_summary['count'] < cust_benchmark].index\n",
    "\n",
    "print('Минимален брой ревюта на потребител: {}'.format(cust_benchmark))"
   ]
  },
  {
   "cell_type": "code",
   "execution_count": 15,
   "metadata": {},
   "outputs": [
    {
     "data": {
      "text/html": [
       "<div>\n",
       "<style scoped>\n",
       "    .dataframe tbody tr th:only-of-type {\n",
       "        vertical-align: middle;\n",
       "    }\n",
       "\n",
       "    .dataframe tbody tr th {\n",
       "        vertical-align: top;\n",
       "    }\n",
       "\n",
       "    .dataframe thead th {\n",
       "        text-align: right;\n",
       "    }\n",
       "</style>\n",
       "<table border=\"1\" class=\"dataframe\">\n",
       "  <thead>\n",
       "    <tr style=\"text-align: right;\">\n",
       "      <th></th>\n",
       "      <th>Movie_Id</th>\n",
       "      <th>Year</th>\n",
       "      <th>Name</th>\n",
       "    </tr>\n",
       "  </thead>\n",
       "  <tbody>\n",
       "    <tr>\n",
       "      <th>0</th>\n",
       "      <td>1</td>\n",
       "      <td>2003.0</td>\n",
       "      <td>Dinosaur Planet</td>\n",
       "    </tr>\n",
       "    <tr>\n",
       "      <th>1</th>\n",
       "      <td>2</td>\n",
       "      <td>2004.0</td>\n",
       "      <td>Isle of Man TT 2004 Review</td>\n",
       "    </tr>\n",
       "    <tr>\n",
       "      <th>2</th>\n",
       "      <td>3</td>\n",
       "      <td>1997.0</td>\n",
       "      <td>Character</td>\n",
       "    </tr>\n",
       "    <tr>\n",
       "      <th>3</th>\n",
       "      <td>4</td>\n",
       "      <td>1994.0</td>\n",
       "      <td>Paula Abdul's Get Up &amp; Dance</td>\n",
       "    </tr>\n",
       "    <tr>\n",
       "      <th>4</th>\n",
       "      <td>5</td>\n",
       "      <td>2004.0</td>\n",
       "      <td>The Rise and Fall of ECW</td>\n",
       "    </tr>\n",
       "    <tr>\n",
       "      <th>5</th>\n",
       "      <td>6</td>\n",
       "      <td>1997.0</td>\n",
       "      <td>Sick</td>\n",
       "    </tr>\n",
       "    <tr>\n",
       "      <th>6</th>\n",
       "      <td>7</td>\n",
       "      <td>1992.0</td>\n",
       "      <td>8 Man</td>\n",
       "    </tr>\n",
       "    <tr>\n",
       "      <th>7</th>\n",
       "      <td>8</td>\n",
       "      <td>2004.0</td>\n",
       "      <td>What the #$*! Do We Know!?</td>\n",
       "    </tr>\n",
       "    <tr>\n",
       "      <th>8</th>\n",
       "      <td>9</td>\n",
       "      <td>1991.0</td>\n",
       "      <td>Class of Nuke 'Em High 2</td>\n",
       "    </tr>\n",
       "    <tr>\n",
       "      <th>9</th>\n",
       "      <td>10</td>\n",
       "      <td>2001.0</td>\n",
       "      <td>Fighter</td>\n",
       "    </tr>\n",
       "  </tbody>\n",
       "</table>\n",
       "</div>"
      ],
      "text/plain": [
       "   Movie_Id    Year                          Name\n",
       "0         1  2003.0               Dinosaur Planet\n",
       "1         2  2004.0    Isle of Man TT 2004 Review\n",
       "2         3  1997.0                     Character\n",
       "3         4  1994.0  Paula Abdul's Get Up & Dance\n",
       "4         5  2004.0      The Rise and Fall of ECW\n",
       "5         6  1997.0                          Sick\n",
       "6         7  1992.0                         8 Man\n",
       "7         8  2004.0    What the #$*! Do We Know!?\n",
       "8         9  1991.0      Class of Nuke 'Em High 2\n",
       "9        10  2001.0                       Fighter"
      ]
     },
     "execution_count": 15,
     "metadata": {},
     "output_type": "execute_result"
    }
   ],
   "source": [
    "df_title = pd.read_csv('movie_titles.csv', encoding = \"ISO-8859-1\", header = None, names = ['Movie_Id', 'Year', 'Name'])\n",
    "df_title.head(10)"
   ]
  },
  {
   "cell_type": "code",
   "execution_count": 16,
   "metadata": {},
   "outputs": [
    {
     "name": "stdout",
     "output_type": "stream",
     "text": [
      "Evaluating RMSE, MAE of algorithm SVD on 5 split(s).\n",
      "\n",
      "                  Fold 1  Fold 2  Fold 3  Fold 4  Fold 5  Mean    Std     \n",
      "RMSE (testset)    1.0161  1.0246  1.0314  1.0241  1.0205  1.0233  0.0051  \n",
      "MAE (testset)     0.7981  0.8061  0.8085  0.8032  0.8047  0.8041  0.0035  \n",
      "Fit time          4.65    4.97    5.73    5.47    5.53    5.27    0.40    \n",
      "Test time         0.15    0.14    0.25    0.14    0.17    0.17    0.04    \n"
     ]
    },
    {
     "data": {
      "text/plain": [
       "{'test_rmse': array([1.01608189, 1.0246391 , 1.03137858, 1.02409594, 1.02051876]),\n",
       " 'test_mae': array([0.79807674, 0.80613525, 0.80852218, 0.80318803, 0.80471543]),\n",
       " 'fit_time': (4.646022081375122,\n",
       "  4.967203855514526,\n",
       "  5.7286036014556885,\n",
       "  5.466476202011108,\n",
       "  5.531293153762817),\n",
       " 'test_time': (0.15262675285339355,\n",
       "  0.1386704444885254,\n",
       "  0.25432276725769043,\n",
       "  0.13961577415466309,\n",
       "  0.1695103645324707)}"
      ]
     },
     "execution_count": 16,
     "metadata": {},
     "output_type": "execute_result"
    }
   ],
   "source": [
    "reader = Reader()\n",
    "\n",
    "data = Dataset.load_from_df(df[['Cust_Id', 'Movie_Id', 'Rating']], reader)\n",
    "svd = SVD()\n",
    "# Run 5-fold cross-validation and print results\n",
    "cross_validate(svd, data, measures=['RMSE', 'MAE'], cv=5, verbose=True)"
   ]
  },
  {
   "cell_type": "code",
   "execution_count": 32,
   "metadata": {},
   "outputs": [
    {
     "data": {
      "text/plain": [
       "Movie_Id\n",
       "4500     Open Hearts\n",
       "4506    Class Action\n",
       "Name: Name, dtype: object"
      ]
     },
     "execution_count": 32,
     "metadata": {},
     "output_type": "execute_result"
    }
   ],
   "source": [
    "df_573364 = df[(df['Cust_Id'] == '1265574') & (df['Rating'] >= 1)]\n",
    "df_573364 = df_573364.set_index('Movie_Id')\n",
    "df_573364 = df_573364.join(df_title)['Name']\n",
    "df_573364.head()"
   ]
  },
  {
   "cell_type": "code",
   "execution_count": 33,
   "metadata": {},
   "outputs": [
    {
     "data": {
      "text/plain": [
       "<surprise.prediction_algorithms.matrix_factorization.SVD at 0x25d962b03a0>"
      ]
     },
     "execution_count": 33,
     "metadata": {},
     "output_type": "execute_result"
    }
   ],
   "source": [
    "trainset = data.build_full_trainset()\n",
    "svd.fit(trainset)"
   ]
  },
  {
   "cell_type": "code",
   "execution_count": 34,
   "metadata": {},
   "outputs": [],
   "source": [
    "titles = df_title.copy()\n",
    "\n",
    "titles['Estimate_Score'] = titles['Movie_Id'].apply(lambda x: svd.predict(785314, x).est)\n",
    "titles = titles.sort_values(by=['Estimate_Score'], ascending=False)"
   ]
  },
  {
   "cell_type": "code",
   "execution_count": 35,
   "metadata": {},
   "outputs": [
    {
     "data": {
      "text/html": [
       "<div>\n",
       "<style scoped>\n",
       "    .dataframe tbody tr th:only-of-type {\n",
       "        vertical-align: middle;\n",
       "    }\n",
       "\n",
       "    .dataframe tbody tr th {\n",
       "        vertical-align: top;\n",
       "    }\n",
       "\n",
       "    .dataframe thead th {\n",
       "        text-align: right;\n",
       "    }\n",
       "</style>\n",
       "<table border=\"1\" class=\"dataframe\">\n",
       "  <thead>\n",
       "    <tr style=\"text-align: right;\">\n",
       "      <th></th>\n",
       "      <th>Movie_Id</th>\n",
       "      <th>Year</th>\n",
       "      <th>Name</th>\n",
       "      <th>Estimate_Score</th>\n",
       "    </tr>\n",
       "  </thead>\n",
       "  <tbody>\n",
       "    <tr>\n",
       "      <th>4508</th>\n",
       "      <td>4509</td>\n",
       "      <td>1977.0</td>\n",
       "      <td>Little House on the Prairie: Season 4</td>\n",
       "      <td>4.043448</td>\n",
       "    </tr>\n",
       "    <tr>\n",
       "      <th>4520</th>\n",
       "      <td>4521</td>\n",
       "      <td>2002.0</td>\n",
       "      <td>Wire in the Blood: Justice Painted Blind</td>\n",
       "      <td>3.977433</td>\n",
       "    </tr>\n",
       "    <tr>\n",
       "      <th>4505</th>\n",
       "      <td>4506</td>\n",
       "      <td>1961.0</td>\n",
       "      <td>Breakfast at Tiffany's</td>\n",
       "      <td>3.972830</td>\n",
       "    </tr>\n",
       "    <tr>\n",
       "      <th>4521</th>\n",
       "      <td>4522</td>\n",
       "      <td>1998.0</td>\n",
       "      <td>Independent's Day</td>\n",
       "      <td>3.808656</td>\n",
       "    </tr>\n",
       "    <tr>\n",
       "      <th>4519</th>\n",
       "      <td>4520</td>\n",
       "      <td>1995.0</td>\n",
       "      <td>Grumpier Old Men</td>\n",
       "      <td>3.751580</td>\n",
       "    </tr>\n",
       "    <tr>\n",
       "      <th>4507</th>\n",
       "      <td>4508</td>\n",
       "      <td>1966.0</td>\n",
       "      <td>Star Trek: The Original Series: Vols. 1-15</td>\n",
       "      <td>3.717082</td>\n",
       "    </tr>\n",
       "    <tr>\n",
       "      <th>11844</th>\n",
       "      <td>11845</td>\n",
       "      <td>1955.0</td>\n",
       "      <td>Summertime</td>\n",
       "      <td>3.650030</td>\n",
       "    </tr>\n",
       "    <tr>\n",
       "      <th>11845</th>\n",
       "      <td>11846</td>\n",
       "      <td>1985.0</td>\n",
       "      <td>Prizzi's Honor</td>\n",
       "      <td>3.650030</td>\n",
       "    </tr>\n",
       "    <tr>\n",
       "      <th>11846</th>\n",
       "      <td>11847</td>\n",
       "      <td>2005.0</td>\n",
       "      <td>Dust to Glory</td>\n",
       "      <td>3.650030</td>\n",
       "    </tr>\n",
       "    <tr>\n",
       "      <th>11843</th>\n",
       "      <td>11844</td>\n",
       "      <td>1967.0</td>\n",
       "      <td>Barefoot in the Park</td>\n",
       "      <td>3.650030</td>\n",
       "    </tr>\n",
       "  </tbody>\n",
       "</table>\n",
       "</div>"
      ],
      "text/plain": [
       "       Movie_Id    Year                                        Name  \\\n",
       "4508       4509  1977.0       Little House on the Prairie: Season 4   \n",
       "4520       4521  2002.0    Wire in the Blood: Justice Painted Blind   \n",
       "4505       4506  1961.0                      Breakfast at Tiffany's   \n",
       "4521       4522  1998.0                           Independent's Day   \n",
       "4519       4520  1995.0                            Grumpier Old Men   \n",
       "4507       4508  1966.0  Star Trek: The Original Series: Vols. 1-15   \n",
       "11844     11845  1955.0                                  Summertime   \n",
       "11845     11846  1985.0                              Prizzi's Honor   \n",
       "11846     11847  2005.0                               Dust to Glory   \n",
       "11843     11844  1967.0                        Barefoot in the Park   \n",
       "\n",
       "       Estimate_Score  \n",
       "4508         4.043448  \n",
       "4520         3.977433  \n",
       "4505         3.972830  \n",
       "4521         3.808656  \n",
       "4519         3.751580  \n",
       "4507         3.717082  \n",
       "11844        3.650030  \n",
       "11845        3.650030  \n",
       "11846        3.650030  \n",
       "11843        3.650030  "
      ]
     },
     "execution_count": 35,
     "metadata": {},
     "output_type": "execute_result"
    }
   ],
   "source": [
    "titles.head(10)"
   ]
  },
  {
   "cell_type": "code",
   "execution_count": null,
   "metadata": {},
   "outputs": [],
   "source": []
  },
  {
   "cell_type": "code",
   "execution_count": 97,
   "metadata": {},
   "outputs": [
    {
     "name": "stdout",
     "output_type": "stream",
     "text": [
      "Movie_Id  4500  4501  4502  4503  4504  4505  4506  4507  4508  4509  ...  \\\n",
      "Cust_Id                                                               ...   \n",
      "1000079    NaN   NaN   NaN   NaN   NaN   NaN   NaN   NaN   NaN   NaN  ...   \n",
      "1000095    NaN   NaN   NaN   NaN   NaN   NaN   NaN   NaN   NaN   NaN  ...   \n",
      "1000122    NaN   NaN   NaN   NaN   NaN   NaN   NaN   NaN   NaN   NaN  ...   \n",
      "1000145    NaN   NaN   NaN   NaN   NaN   NaN   NaN   NaN   NaN   NaN  ...   \n",
      "1000192    NaN   NaN   NaN   NaN   NaN   NaN   NaN   NaN   NaN   NaN  ...   \n",
      "...        ...   ...   ...   ...   ...   ...   ...   ...   ...   ...  ...   \n",
      "999892     NaN   NaN   NaN   NaN   NaN   NaN   4.0   NaN   NaN   NaN  ...   \n",
      "999903     NaN   NaN   NaN   NaN   NaN   NaN   2.0   NaN   NaN   NaN  ...   \n",
      "99993      NaN   NaN   NaN   NaN   NaN   NaN   NaN   NaN   NaN   NaN  ...   \n",
      "999944     NaN   NaN   NaN   NaN   NaN   NaN   5.0   NaN   NaN   NaN  ...   \n",
      "999972     NaN   NaN   NaN   NaN   NaN   NaN   5.0   NaN   NaN   NaN  ...   \n",
      "\n",
      "Movie_Id  4513  4514  4515  4516  4517  4518  4519  4520  4521  4522  \n",
      "Cust_Id                                                               \n",
      "1000079    NaN   NaN   3.0   NaN   NaN   NaN   NaN   NaN   NaN   NaN  \n",
      "1000095    NaN   NaN   NaN   NaN   NaN   NaN   NaN   1.0   NaN   NaN  \n",
      "1000122    NaN   NaN   NaN   NaN   NaN   NaN   NaN   NaN   5.0   NaN  \n",
      "1000145    NaN   NaN   NaN   NaN   NaN   NaN   NaN   3.0   NaN   NaN  \n",
      "1000192    NaN   NaN   NaN   NaN   NaN   NaN   NaN   3.0   NaN   NaN  \n",
      "...        ...   ...   ...   ...   ...   ...   ...   ...   ...   ...  \n",
      "999892     NaN   NaN   NaN   NaN   NaN   NaN   NaN   NaN   NaN   3.0  \n",
      "999903     NaN   NaN   NaN   NaN   NaN   NaN   NaN   NaN   NaN   NaN  \n",
      "99993      NaN   NaN   NaN   NaN   NaN   NaN   NaN   3.0   NaN   NaN  \n",
      "999944     NaN   NaN   NaN   NaN   NaN   NaN   NaN   2.0   NaN   NaN  \n",
      "999972     NaN   NaN   NaN   NaN   NaN   NaN   NaN   NaN   NaN   NaN  \n",
      "\n",
      "[73445 rows x 23 columns]\n"
     ]
    }
   ],
   "source": [
    "df_p = pd.pivot_table(df,values='Rating',index='Cust_Id',columns='Movie_Id')\n",
    "print(df_p)"
   ]
  },
  {
   "cell_type": "markdown",
   "metadata": {},
   "source": [
    "## Втори модел\n",
    "Колаборативно филтриране"
   ]
  },
  {
   "cell_type": "code",
   "execution_count": 99,
   "metadata": {},
   "outputs": [],
   "source": [
    "reader = Reader()\n"
   ]
  },
  {
   "cell_type": "code",
   "execution_count": 101,
   "metadata": {},
   "outputs": [],
   "source": [
    "data = Dataset.load_from_df(df[['Cust_Id', 'Movie_Id', 'Rating']], reader)"
   ]
  },
  {
   "cell_type": "code",
   "execution_count": 102,
   "metadata": {},
   "outputs": [
    {
     "name": "stdout",
     "output_type": "stream",
     "text": [
      "Evaluating RMSE, MAE of algorithm SVD on 3 split(s).\n",
      "\n",
      "                  Fold 1  Fold 2  Fold 3  Mean    Std     \n",
      "RMSE (testset)    1.0250  1.0266  1.0222  1.0246  0.0018  \n",
      "MAE (testset)     0.8061  0.8128  0.7999  0.8063  0.0053  \n",
      "Fit time          3.68    3.69    3.89    3.75    0.10    \n",
      "Test time         0.20    0.19    0.18    0.19    0.01    \n"
     ]
    },
    {
     "data": {
      "text/plain": [
       "{'test_rmse': array([1.02504145, 1.02655874, 1.02224852]),\n",
       " 'test_mae': array([0.80607565, 0.81284009, 0.79993142]),\n",
       " 'fit_time': (3.676368236541748, 3.6909008026123047, 3.891273260116577),\n",
       " 'test_time': (0.1965024471282959, 0.19448041915893555, 0.1845073699951172)}"
      ]
     },
     "execution_count": 102,
     "metadata": {},
     "output_type": "execute_result"
    }
   ],
   "source": [
    "svd=SVD()\n",
    "cross_validate(svd, data, measures=['RMSE', 'MAE'], cv=3, verbose=True)"
   ]
  },
  {
   "cell_type": "code",
   "execution_count": 116,
   "metadata": {},
   "outputs": [
    {
     "name": "stdout",
     "output_type": "stream",
     "text": [
      "Movie_Id\n",
      "4506    Class Action\n",
      "Name: Name, dtype: object\n",
      "      Cust_Id  Movie_Id  Rating        Date\n",
      "12013  999944      4506     5.0  2000-12-21\n",
      "74017  999944      4520     2.0  2000-12-21\n"
     ]
    }
   ],
   "source": [
    "user = df[(df['Cust_Id'] == '999944') & (df['Rating'] > 2)]\n",
    "user = user.set_index('Movie_Id')\n",
    "user = user.join(df_title)['Name']\n",
    "print(user)\n",
    "print(df[(df['Cust_Id'] == '999944')])"
   ]
  },
  {
   "cell_type": "code",
   "execution_count": 117,
   "metadata": {},
   "outputs": [
    {
     "data": {
      "text/html": [
       "<div>\n",
       "<style scoped>\n",
       "    .dataframe tbody tr th:only-of-type {\n",
       "        vertical-align: middle;\n",
       "    }\n",
       "\n",
       "    .dataframe tbody tr th {\n",
       "        vertical-align: top;\n",
       "    }\n",
       "\n",
       "    .dataframe thead th {\n",
       "        text-align: right;\n",
       "    }\n",
       "</style>\n",
       "<table border=\"1\" class=\"dataframe\">\n",
       "  <thead>\n",
       "    <tr style=\"text-align: right;\">\n",
       "      <th></th>\n",
       "      <th>index</th>\n",
       "      <th>Movie_Id</th>\n",
       "      <th>Year</th>\n",
       "      <th>Name</th>\n",
       "    </tr>\n",
       "  </thead>\n",
       "  <tbody>\n",
       "    <tr>\n",
       "      <th>0</th>\n",
       "      <td>0</td>\n",
       "      <td>1</td>\n",
       "      <td>2003.0</td>\n",
       "      <td>Dinosaur Planet</td>\n",
       "    </tr>\n",
       "    <tr>\n",
       "      <th>1</th>\n",
       "      <td>1</td>\n",
       "      <td>2</td>\n",
       "      <td>2004.0</td>\n",
       "      <td>Isle of Man TT 2004 Review</td>\n",
       "    </tr>\n",
       "    <tr>\n",
       "      <th>2</th>\n",
       "      <td>2</td>\n",
       "      <td>3</td>\n",
       "      <td>1997.0</td>\n",
       "      <td>Character</td>\n",
       "    </tr>\n",
       "    <tr>\n",
       "      <th>3</th>\n",
       "      <td>3</td>\n",
       "      <td>4</td>\n",
       "      <td>1994.0</td>\n",
       "      <td>Paula Abdul's Get Up &amp; Dance</td>\n",
       "    </tr>\n",
       "    <tr>\n",
       "      <th>4</th>\n",
       "      <td>4</td>\n",
       "      <td>5</td>\n",
       "      <td>2004.0</td>\n",
       "      <td>The Rise and Fall of ECW</td>\n",
       "    </tr>\n",
       "    <tr>\n",
       "      <th>...</th>\n",
       "      <td>...</td>\n",
       "      <td>...</td>\n",
       "      <td>...</td>\n",
       "      <td>...</td>\n",
       "    </tr>\n",
       "    <tr>\n",
       "      <th>17765</th>\n",
       "      <td>17765</td>\n",
       "      <td>17766</td>\n",
       "      <td>2002.0</td>\n",
       "      <td>Where the Wild Things Are and Other Maurice Se...</td>\n",
       "    </tr>\n",
       "    <tr>\n",
       "      <th>17766</th>\n",
       "      <td>17766</td>\n",
       "      <td>17767</td>\n",
       "      <td>2004.0</td>\n",
       "      <td>Fidel Castro: American Experience</td>\n",
       "    </tr>\n",
       "    <tr>\n",
       "      <th>17767</th>\n",
       "      <td>17767</td>\n",
       "      <td>17768</td>\n",
       "      <td>2000.0</td>\n",
       "      <td>Epoch</td>\n",
       "    </tr>\n",
       "    <tr>\n",
       "      <th>17768</th>\n",
       "      <td>17768</td>\n",
       "      <td>17769</td>\n",
       "      <td>2003.0</td>\n",
       "      <td>The Company</td>\n",
       "    </tr>\n",
       "    <tr>\n",
       "      <th>17769</th>\n",
       "      <td>17769</td>\n",
       "      <td>17770</td>\n",
       "      <td>2003.0</td>\n",
       "      <td>Alien Hunter</td>\n",
       "    </tr>\n",
       "  </tbody>\n",
       "</table>\n",
       "<p>17754 rows × 4 columns</p>\n",
       "</div>"
      ],
      "text/plain": [
       "       index  Movie_Id    Year  \\\n",
       "0          0         1  2003.0   \n",
       "1          1         2  2004.0   \n",
       "2          2         3  1997.0   \n",
       "3          3         4  1994.0   \n",
       "4          4         5  2004.0   \n",
       "...      ...       ...     ...   \n",
       "17765  17765     17766  2002.0   \n",
       "17766  17766     17767  2004.0   \n",
       "17767  17767     17768  2000.0   \n",
       "17768  17768     17769  2003.0   \n",
       "17769  17769     17770  2003.0   \n",
       "\n",
       "                                                    Name  \n",
       "0                                        Dinosaur Planet  \n",
       "1                             Isle of Man TT 2004 Review  \n",
       "2                                              Character  \n",
       "3                           Paula Abdul's Get Up & Dance  \n",
       "4                               The Rise and Fall of ECW  \n",
       "...                                                  ...  \n",
       "17765  Where the Wild Things Are and Other Maurice Se...  \n",
       "17766                  Fidel Castro: American Experience  \n",
       "17767                                              Epoch  \n",
       "17768                                        The Company  \n",
       "17769                                       Alien Hunter  \n",
       "\n",
       "[17754 rows x 4 columns]"
      ]
     },
     "execution_count": 117,
     "metadata": {},
     "output_type": "execute_result"
    }
   ],
   "source": [
    "#prediction\n",
    "\n",
    "user_785314 = df_title.copy()\n",
    "user_785314 = user_785314.reset_index()\n",
    "user_785314 = user_785314[~user_785314['Movie_Id'].isin(drop_movie_list)]\n",
    "user_785314"
   ]
  },
  {
   "cell_type": "code",
   "execution_count": 118,
   "metadata": {},
   "outputs": [
    {
     "data": {
      "text/plain": [
       "<surprise.prediction_algorithms.matrix_factorization.SVD at 0x25d9ef2b340>"
      ]
     },
     "execution_count": 118,
     "metadata": {},
     "output_type": "execute_result"
    }
   ],
   "source": [
    "# getting full dataset\n",
    "data = Dataset.load_from_df(df[['Cust_Id', 'Movie_Id', 'Rating']], reader)\n",
    "\n",
    "trainset = data.build_full_trainset()\n",
    "svd.fit(trainset)"
   ]
  },
  {
   "cell_type": "code",
   "execution_count": 120,
   "metadata": {},
   "outputs": [],
   "source": [
    "user_785314['Estimate_Score'] = user_785314['Movie_Id'].apply(lambda x: svd.predict(785314, x).est)"
   ]
  },
  {
   "cell_type": "code",
   "execution_count": 121,
   "metadata": {},
   "outputs": [
    {
     "name": "stdout",
     "output_type": "stream",
     "text": [
      "       index    Year                                        Name  \\\n",
      "4505    4505  1961.0                      Breakfast at Tiffany's   \n",
      "4521    4521  1998.0                           Independent's Day   \n",
      "4519    4519  1995.0                            Grumpier Old Men   \n",
      "4507    4507  1966.0  Star Trek: The Original Series: Vols. 1-15   \n",
      "0          0  2003.0                             Dinosaur Planet   \n",
      "11853  11853  1939.0                      Only Angels Have Wings   \n",
      "11858  11858  1996.0                    Star Trek: First Contact   \n",
      "11857  11857  1974.0                        Good Times: Season 2   \n",
      "11856  11856  2000.0                      The Man Show: Season 2   \n",
      "11855  11855  1962.0                                 Half Ticket   \n",
      "\n",
      "       Estimate_Score  \n",
      "4505         3.970097  \n",
      "4521         3.827132  \n",
      "4519         3.743160  \n",
      "4507         3.709489  \n",
      "0            3.650030  \n",
      "11853        3.650030  \n",
      "11858        3.650030  \n",
      "11857        3.650030  \n",
      "11856        3.650030  \n",
      "11855        3.650030  \n"
     ]
    }
   ],
   "source": [
    "user_785314 = user_785314.drop('Movie_Id', axis = 1)\n",
    "\n",
    "user_785314 = user_785314.sort_values('Estimate_Score', ascending=False)\n",
    "print(user_785314.head(10))"
   ]
  },
  {
   "cell_type": "code",
   "execution_count": 122,
   "metadata": {},
   "outputs": [],
   "source": [
    "def recommend(movie_title, min_count):\n",
    "  print(\"For movie ({})\".format(movie_title))\n",
    "  print(\"- Top 10 movies recommended based on Pearsons'R correlation - \")\n",
    "  i = int(df_title.index[df_title['Name'] == movie_title][0])\n",
    "  target = df_p[i]\n",
    "  similar_to_target = df_p.corrwith(target)\n",
    "  corr_target = pd.DataFrame(similar_to_target, columns = ['PearsonR'])\n",
    "  corr_target.dropna(inplace = True)\n",
    "  corr_target = corr_target.sort_values('PearsonR', ascending = False)\n",
    "  corr_target.index = corr_target.index.map(int)\n",
    "  corr_target = corr_target.join(df_title).join(df_movie_summary)[['PearsonR', 'Name', 'count', 'mean']]\n",
    "  print(corr_target[corr_target['count']>min_count][:10].to_string(index=False))"
   ]
  },
  {
   "cell_type": "code",
   "execution_count": 125,
   "metadata": {},
   "outputs": [
    {
     "name": "stdout",
     "output_type": "stream",
     "text": [
      "For movie (Independent's Day)\n",
      "- Top 10 movies recommended based on Pearsons'R correlation - \n",
      " PearsonR                         Name  count      mean\n",
      " 1.000000            Independent's Day    962  3.965696\n",
      " 0.937074           The Brylcreem Boys    119  2.907563\n",
      " 0.932346            Grace of My Heart    104  2.144231\n",
      " 0.847883                  Open Hearts    258  3.329457\n",
      " 0.778555  Do You Wanna Know a Secret?    595  3.043697\n",
      " 0.654291                   Young Gods    176  3.153409\n",
      " 0.637847                      Shocker    237  2.886076\n",
      " 0.585738                        Mimic   1233  3.607461\n",
      " 0.578764             Grumpier Old Men   2806  3.023521\n",
      " 0.567243              Kaagaz Ke Phool   2516  4.033784\n"
     ]
    }
   ],
   "source": [
    "recommend(\"Independent's Day\", 0)"
   ]
  },
  {
   "cell_type": "markdown",
   "metadata": {},
   "source": [
    "## Използвани източници\n",
    "\n",
    "- [Google Developers](https://developers.google.com/machine-learning/recommendation)\n",
    "- [Machine Learning for Building Recommender System in Python](https://towardsdatascience.com/machine-learning-for-building-recommender-system-in-python-9e4922dd7e97)\n",
    "- [Recommender Systems](https://www.ritchieng.com/machine-learning-recommender-systems/)\n",
    "- [Recommendation-System](https://github.com/Ireneyou33/Recommendation-System)"
   ]
  }
 ],
 "metadata": {
  "kernelspec": {
   "display_name": "Python 3",
   "language": "python",
   "name": "python3"
  },
  "language_info": {
   "codemirror_mode": {
    "name": "ipython",
    "version": 3
   },
   "file_extension": ".py",
   "mimetype": "text/x-python",
   "name": "python",
   "nbconvert_exporter": "python",
   "pygments_lexer": "ipython3",
   "version": "3.8.5"
  }
 },
 "nbformat": 4,
 "nbformat_minor": 2
}
