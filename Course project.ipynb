{
 "cells": [
  {
   "cell_type": "code",
   "execution_count": 2,
   "metadata": {},
   "outputs": [],
   "source": [
    "%matplotlib inline"
   ]
  },
  {
   "cell_type": "code",
   "execution_count": 3,
   "metadata": {},
   "outputs": [],
   "source": [
    "import pandas as pd\n",
    "import numpy as np\n",
    "import math\n",
    "import re\n",
    "from scipy.sparse import csr_matrix\n",
    "import matplotlib.pyplot as plt\n",
    "import seaborn as sns\n",
    "from surprise import Reader, Dataset, SVD\n",
    "from surprise.model_selection import KFold, cross_validate\n",
    "from sklearn.model_selection import train_test_split, GridSearchCV\n",
    "from sklearn.preprocessing import MinMaxScaler\n",
    "from sklearn.linear_model import LinearRegression\n",
    "\n",
    "# from surprise import evaluate \n",
    "from surprise.model_selection.validation import cross_validate\n",
    "\n",
    "sns.set_style(\"darkgrid\")"
   ]
  },
  {
   "cell_type": "markdown",
   "metadata": {},
   "source": [
    "# ИИ, препоръчай ми филм!\n",
    "\n",
    "### Как работят основните алгоритми за препоръчване чрез машинно самооубучение\n",
    "\n"
   ]
  },
  {
   "cell_type": "markdown",
   "metadata": {},
   "source": [
    "## Резюме\n",
    "\n",
    "<b> Алгоритмите за машинно самообучение, свързани с препоръчване, </b> са едни от най-използваните прилложения, още от зараждането на това направление. \n",
    "\n",
    "Разработката тук е свързана с [журналистически материал, който предстои да бъде публикуван](https://docs.google.com/document/d/134zZr_pZLMu49uEu0ppKht0ytunXujS5IIcL5bi5kiU/edit?usp=sharing) на сайта „Дигитални истории“, разказваща накратко за основните направления в областта на алгоритмите за препоръчване.\n",
    "\n",
    "Основните подходи са два: колаборативно филтриране и филтриране, базирано на съдържанието. В по-модерните решения се използва своеобразна комбинация,така че да се използват силните страни и на двата подхода. \n",
    "\n",
    "Колаборация, или сътрудничество, ще рече, че хората работят заедно, за да постигнат даден резултат. Това стои в основата на колаборативното филтриране. Същият принцип, който споменахме и продължаваме да използваме и днес. А на езика на продажбите: „Хората, които купиха…, купиха и…“. Целта на алгоритмите в този случай е да обработи данните така, че максимално да потърси общите черти в избора на различните потребители, така че да изведе общите точки.\n",
    "\n",
    "Като цяло подходът е следният. Алгоритъмът събира хората, които са давали максимално близки рейтинги, както потребителя, на когото ще препоръчваме. После данните се използват, за да се изчисли колко е вероятно хората със сходен вкус да харесат и друг продукт от същата група. Измежду хората, харесали любимите ви филми, да намерим средните показатели за следващия филм и да видим кои са най-високи. Като, разбира се, опитаме да игнорираме например филмите, които имат твърде малко оценки, потребителите, които дават твърде разнопосочни числа. Или, т.нар. „пристрастие“, което в света на технологиите общо взето всички наричат с английския термин “bias”.\n",
    "\n",
    "Филтрирането, базирано на съдържание, обръща наобратно перспективата, базирайки се на отделните единици, нека в случая използваме филми. Сравняват се оценките на потребителите за всяка двойка филми и на базата на това се определя какъв би бил рейтингът на този, който още не е гледал втория филм.\n",
    "\n",
    "Една от компаниите пионери в тази област и същевременно доказано най-успешна в нея, е „Нетфликс“. Именно това, което се знае за техните алгоритми ще разгледаме в настоящия проект."
   ]
  },
  {
   "cell_type": "markdown",
   "metadata": {},
   "source": [
    "### Въвеждане на данните\n",
    "\n",
    "Използвани са данните от официалните състезания за прреопърачващи алгоритми, организирани от „Нетфликс“. Днес те са достъпни в платформата [Kaggle](https://www.kaggle.com/netflix-inc/netflix-prize-data). Четири файла с данни събират потребителските рейтинги на филми, допълнителен файл съдържа данни за името на филмите и уникалния номер, с който се асоциират. Цялата колекция от данни съдържа 100 милиона рейтинги на 480 000 зрители за 17 000 филма.\n",
    "\n",
    "Тъй като данните са огромни (Всеки от 4-те основно файла е по около 500 мегабайта), за демонстративни цели се използва само първият.\n",
    "\n",
    "Първата задача е данните да бъдат прочетени и подредени в таблица с уникалните номера на зрителите, филмите, рейтингите и датите. Също от съображение за бързина данните са лимитирани до първите 300 000 записа.\n"
   ]
  },
  {
   "cell_type": "code",
   "execution_count": 5,
   "metadata": {},
   "outputs": [],
   "source": [
    "def readFile(file_path, rows):\n",
    "    data_dict = {'Cust_Id' : [], 'Movie_Id' : [], 'Rating' : [], 'Date' : []}\n",
    "    f = open(file_path, \"r\")\n",
    "    count = 0\n",
    "    for line in f:\n",
    "        count += 1\n",
    "        if count > rows:\n",
    "            break\n",
    "            \n",
    "        if ':' in line:\n",
    "            movidId = line[:-2] # remove the last character ':'\n",
    "            movieId = int(movidId)\n",
    "        else:\n",
    "            customerID, rating, date = line.split(',')\n",
    "            data_dict['Cust_Id'].append(customerID)\n",
    "            data_dict['Movie_Id'].append(movieId)\n",
    "            data_dict['Rating'].append(rating)\n",
    "            data_dict['Date'].append(date.rstrip(\"\\n\"))\n",
    "    f.close()\n",
    "            \n",
    "    return pd.DataFrame(data_dict)"
   ]
  },
  {
   "cell_type": "code",
   "execution_count": 6,
   "metadata": {},
   "outputs": [],
   "source": [
    "df = readFile('combined_data.txt', rows=300000)"
   ]
  },
  {
   "cell_type": "markdown",
   "metadata": {},
   "source": [
    "### Запознаване с данните"
   ]
  },
  {
   "cell_type": "code",
   "execution_count": 7,
   "metadata": {},
   "outputs": [
    {
     "data": {
      "text/html": [
       "<div>\n",
       "<style scoped>\n",
       "    .dataframe tbody tr th:only-of-type {\n",
       "        vertical-align: middle;\n",
       "    }\n",
       "\n",
       "    .dataframe tbody tr th {\n",
       "        vertical-align: top;\n",
       "    }\n",
       "\n",
       "    .dataframe thead th {\n",
       "        text-align: right;\n",
       "    }\n",
       "</style>\n",
       "<table border=\"1\" class=\"dataframe\">\n",
       "  <thead>\n",
       "    <tr style=\"text-align: right;\">\n",
       "      <th></th>\n",
       "      <th>Cust_Id</th>\n",
       "      <th>Movie_Id</th>\n",
       "      <th>Rating</th>\n",
       "      <th>Date</th>\n",
       "    </tr>\n",
       "  </thead>\n",
       "  <tbody>\n",
       "    <tr>\n",
       "      <th>0</th>\n",
       "      <td>2532865</td>\n",
       "      <td>4500</td>\n",
       "      <td>4</td>\n",
       "      <td>2005-07-26</td>\n",
       "    </tr>\n",
       "    <tr>\n",
       "      <th>1</th>\n",
       "      <td>573364</td>\n",
       "      <td>4500</td>\n",
       "      <td>3</td>\n",
       "      <td>2005-06-20</td>\n",
       "    </tr>\n",
       "    <tr>\n",
       "      <th>2</th>\n",
       "      <td>1696725</td>\n",
       "      <td>4500</td>\n",
       "      <td>3</td>\n",
       "      <td>2004-02-27</td>\n",
       "    </tr>\n",
       "    <tr>\n",
       "      <th>3</th>\n",
       "      <td>1253431</td>\n",
       "      <td>4500</td>\n",
       "      <td>3</td>\n",
       "      <td>2004-03-31</td>\n",
       "    </tr>\n",
       "    <tr>\n",
       "      <th>4</th>\n",
       "      <td>1265574</td>\n",
       "      <td>4500</td>\n",
       "      <td>2</td>\n",
       "      <td>2003-09-01</td>\n",
       "    </tr>\n",
       "  </tbody>\n",
       "</table>\n",
       "</div>"
      ],
      "text/plain": [
       "   Cust_Id  Movie_Id Rating        Date\n",
       "0  2532865      4500      4  2005-07-26\n",
       "1   573364      4500      3  2005-06-20\n",
       "2  1696725      4500      3  2004-02-27\n",
       "3  1253431      4500      3  2004-03-31\n",
       "4  1265574      4500      2  2003-09-01"
      ]
     },
     "execution_count": 7,
     "metadata": {},
     "output_type": "execute_result"
    }
   ],
   "source": [
    "df.head()"
   ]
  },
  {
   "cell_type": "code",
   "execution_count": 8,
   "metadata": {},
   "outputs": [
    {
     "data": {
      "text/html": [
       "<div>\n",
       "<style scoped>\n",
       "    .dataframe tbody tr th:only-of-type {\n",
       "        vertical-align: middle;\n",
       "    }\n",
       "\n",
       "    .dataframe tbody tr th {\n",
       "        vertical-align: top;\n",
       "    }\n",
       "\n",
       "    .dataframe thead th {\n",
       "        text-align: right;\n",
       "    }\n",
       "</style>\n",
       "<table border=\"1\" class=\"dataframe\">\n",
       "  <thead>\n",
       "    <tr style=\"text-align: right;\">\n",
       "      <th></th>\n",
       "      <th>count</th>\n",
       "      <th>mean</th>\n",
       "      <th>std</th>\n",
       "      <th>min</th>\n",
       "      <th>25%</th>\n",
       "      <th>50%</th>\n",
       "      <th>75%</th>\n",
       "      <th>max</th>\n",
       "    </tr>\n",
       "  </thead>\n",
       "  <tbody>\n",
       "    <tr>\n",
       "      <th>Movie_Id</th>\n",
       "      <td>299922.0</td>\n",
       "      <td>4538.958956</td>\n",
       "      <td>22.276494</td>\n",
       "      <td>4500.0</td>\n",
       "      <td>4520.0</td>\n",
       "      <td>4545.0</td>\n",
       "      <td>4552.0</td>\n",
       "      <td>4577.0</td>\n",
       "    </tr>\n",
       "  </tbody>\n",
       "</table>\n",
       "</div>"
      ],
      "text/plain": [
       "             count         mean        std     min     25%     50%     75%  \\\n",
       "Movie_Id  299922.0  4538.958956  22.276494  4500.0  4520.0  4545.0  4552.0   \n",
       "\n",
       "             max  \n",
       "Movie_Id  4577.0  "
      ]
     },
     "execution_count": 8,
     "metadata": {},
     "output_type": "execute_result"
    }
   ],
   "source": [
    "df.describe().T"
   ]
  },
  {
   "cell_type": "code",
   "execution_count": 9,
   "metadata": {},
   "outputs": [],
   "source": [
    "df['Rating'] = df['Rating'].astype(float)"
   ]
  },
  {
   "cell_type": "code",
   "execution_count": 10,
   "metadata": {},
   "outputs": [
    {
     "data": {
      "text/plain": [
       "(299922, 4)"
      ]
     },
     "execution_count": 10,
     "metadata": {},
     "output_type": "execute_result"
    }
   ],
   "source": [
    "df.index = np.arange(0,len(df))\n",
    "df.shape"
   ]
  },
  {
   "cell_type": "code",
   "execution_count": 11,
   "metadata": {},
   "outputs": [
    {
     "data": {
      "text/html": [
       "<div>\n",
       "<style scoped>\n",
       "    .dataframe tbody tr th:only-of-type {\n",
       "        vertical-align: middle;\n",
       "    }\n",
       "\n",
       "    .dataframe tbody tr th {\n",
       "        vertical-align: top;\n",
       "    }\n",
       "\n",
       "    .dataframe thead tr th {\n",
       "        text-align: left;\n",
       "    }\n",
       "\n",
       "    .dataframe thead tr:last-of-type th {\n",
       "        text-align: right;\n",
       "    }\n",
       "</style>\n",
       "<table border=\"1\" class=\"dataframe\">\n",
       "  <thead>\n",
       "    <tr>\n",
       "      <th></th>\n",
       "      <th>Cust_Id</th>\n",
       "      <th>Rating</th>\n",
       "      <th>Date</th>\n",
       "    </tr>\n",
       "    <tr>\n",
       "      <th></th>\n",
       "      <th>count</th>\n",
       "      <th>count</th>\n",
       "      <th>count</th>\n",
       "    </tr>\n",
       "    <tr>\n",
       "      <th>Movie_Id</th>\n",
       "      <th></th>\n",
       "      <th></th>\n",
       "      <th></th>\n",
       "    </tr>\n",
       "  </thead>\n",
       "  <tbody>\n",
       "    <tr>\n",
       "      <th>4500</th>\n",
       "      <td>258</td>\n",
       "      <td>258</td>\n",
       "      <td>258</td>\n",
       "    </tr>\n",
       "    <tr>\n",
       "      <th>4501</th>\n",
       "      <td>595</td>\n",
       "      <td>595</td>\n",
       "      <td>595</td>\n",
       "    </tr>\n",
       "    <tr>\n",
       "      <th>4502</th>\n",
       "      <td>104</td>\n",
       "      <td>104</td>\n",
       "      <td>104</td>\n",
       "    </tr>\n",
       "    <tr>\n",
       "      <th>4503</th>\n",
       "      <td>1779</td>\n",
       "      <td>1779</td>\n",
       "      <td>1779</td>\n",
       "    </tr>\n",
       "    <tr>\n",
       "      <th>4504</th>\n",
       "      <td>176</td>\n",
       "      <td>176</td>\n",
       "      <td>176</td>\n",
       "    </tr>\n",
       "  </tbody>\n",
       "</table>\n",
       "</div>"
      ],
      "text/plain": [
       "         Cust_Id Rating  Date\n",
       "           count  count count\n",
       "Movie_Id                     \n",
       "4500         258    258   258\n",
       "4501         595    595   595\n",
       "4502         104    104   104\n",
       "4503        1779   1779  1779\n",
       "4504         176    176   176"
      ]
     },
     "execution_count": 11,
     "metadata": {},
     "output_type": "execute_result"
    }
   ],
   "source": [
    "grouped_by_movies = df.groupby('Movie_Id').agg(['count'])\n",
    "movie_count = grouped_by_movies.shape[0]\n",
    "grouped_by_movies.head()"
   ]
  },
  {
   "cell_type": "code",
   "execution_count": 12,
   "metadata": {},
   "outputs": [
    {
     "data": {
      "text/plain": [
       "4545    70799\n",
       "4506    33731\n",
       "4520    26500\n",
       "4546    23270\n",
       "4570    20703\n",
       "Name: Movie_Id, dtype: int64"
      ]
     },
     "execution_count": 12,
     "metadata": {},
     "output_type": "execute_result"
    }
   ],
   "source": [
    "df['Movie_Id'].value_counts().head()"
   ]
  },
  {
   "cell_type": "code",
   "execution_count": 13,
   "metadata": {},
   "outputs": [
    {
     "data": {
      "image/png": "[encoded data removed]",
      "text/plain": [
       "<Figure size 1080x720 with 1 Axes>"
      ]
     },
     "metadata": {},
     "output_type": "display_data"
    }
   ],
   "source": [
    "ratings = df.groupby('Rating')['Rating'].agg(['count'])\n",
    "\n",
    "# get customer count\n",
    "cust_count = df['Cust_Id'].nunique() - movie_count\n",
    "\n",
    "# get rating count\n",
    "rating_count = df['Cust_Id'].count() - movie_count\n",
    "\n",
    "ax = ratings.plot(kind = 'barh', legend = False, figsize = (15,10))\n",
    "plt.title('Общо в данните: {:,} филма, {:,} зрители, {:,} дадени рейтинги'.format(movie_count, cust_count, rating_count), fontsize=20)\n",
    "plt.axis('off')\n",
    "\n",
    "for i in range(1,6):\n",
    "    ax.text(ratings.iloc[i-1][0]/4, i-1, 'Rating {}: {:.0f}%'.format(i, ratings.iloc[i-1][0]*100 / ratings.sum()[0]), color = 'white', weight = 'bold')"
   ]
  },
  {
   "cell_type": "markdown",
   "metadata": {},
   "source": [
    "### Първоначални изводи\n",
    "\n",
    "- В данните имаме 78 филма, над 150 хиляди зрители и почти 300 000 рейтинга.\n",
    "- Рейтингите са достатъчно разнообразни и стратифицирани, за да позволяват обработка.\n",
    "- Някои от филмите имат много голям брой рейтинги (над 20 000), което позволява да се направи обработка на данните с цел търсене на препоръки."
   ]
  },
  {
   "cell_type": "code",
   "execution_count": 14,
   "metadata": {},
   "outputs": [
    {
     "data": {
      "text/html": [
       "<div>\n",
       "<style scoped>\n",
       "    .dataframe tbody tr th:only-of-type {\n",
       "        vertical-align: middle;\n",
       "    }\n",
       "\n",
       "    .dataframe tbody tr th {\n",
       "        vertical-align: top;\n",
       "    }\n",
       "\n",
       "    .dataframe thead th {\n",
       "        text-align: right;\n",
       "    }\n",
       "</style>\n",
       "<table border=\"1\" class=\"dataframe\">\n",
       "  <thead>\n",
       "    <tr style=\"text-align: right;\">\n",
       "      <th></th>\n",
       "      <th>count</th>\n",
       "      <th>mean</th>\n",
       "    </tr>\n",
       "    <tr>\n",
       "      <th>Movie_Id</th>\n",
       "      <th></th>\n",
       "      <th></th>\n",
       "    </tr>\n",
       "  </thead>\n",
       "  <tbody>\n",
       "    <tr>\n",
       "      <th>4500</th>\n",
       "      <td>258</td>\n",
       "      <td>3.329457</td>\n",
       "    </tr>\n",
       "    <tr>\n",
       "      <th>4501</th>\n",
       "      <td>595</td>\n",
       "      <td>3.043697</td>\n",
       "    </tr>\n",
       "    <tr>\n",
       "      <th>4502</th>\n",
       "      <td>104</td>\n",
       "      <td>2.144231</td>\n",
       "    </tr>\n",
       "    <tr>\n",
       "      <th>4503</th>\n",
       "      <td>1779</td>\n",
       "      <td>3.213603</td>\n",
       "    </tr>\n",
       "    <tr>\n",
       "      <th>4504</th>\n",
       "      <td>176</td>\n",
       "      <td>3.153409</td>\n",
       "    </tr>\n",
       "  </tbody>\n",
       "</table>\n",
       "</div>"
      ],
      "text/plain": [
       "          count      mean\n",
       "Movie_Id                 \n",
       "4500        258  3.329457\n",
       "4501        595  3.043697\n",
       "4502        104  2.144231\n",
       "4503       1779  3.213603\n",
       "4504        176  3.153409"
      ]
     },
     "execution_count": 14,
     "metadata": {},
     "output_type": "execute_result"
    }
   ],
   "source": [
    "names = ['count','mean']\n",
    "df_movie_summary = df.groupby('Movie_Id')['Rating'].agg(names)\n",
    "df_movie_summary.head()"
   ]
  },
  {
   "cell_type": "code",
   "execution_count": 15,
   "metadata": {},
   "outputs": [
    {
     "name": "stdout",
     "output_type": "stream",
     "text": [
      "Минимален брой ревюта на филм: 2239.0\n"
     ]
    }
   ],
   "source": [
    "df_movie_summary.index = df_movie_summary.index.map(int)\n",
    "movie_benchmark = round(df_movie_summary['count'].quantile(0.7),0)\n",
    "drop_movie_list = df_movie_summary[df_movie_summary['count'] < movie_benchmark].index\n",
    "print('Минимален брой ревюта на филм: {}'.format(movie_benchmark))"
   ]
  },
  {
   "cell_type": "code",
   "execution_count": 16,
   "metadata": {},
   "outputs": [
    {
     "name": "stdout",
     "output_type": "stream",
     "text": [
      "Минимален брой ревюта на потребител: 2.0\n"
     ]
    }
   ],
   "source": [
    "df_cust_summary = df.groupby('Cust_Id')['Rating'].agg(names)\n",
    "df_cust_summary.index = df_cust_summary.index.map(int)\n",
    "cust_benchmark = round(df_cust_summary['count'].quantile(0.7),0)\n",
    "drop_cust_list = df_cust_summary[df_cust_summary['count'] < cust_benchmark].index\n",
    "\n",
    "print('Минимален брой ревюта на потребител: {}'.format(cust_benchmark))"
   ]
  },
  {
   "cell_type": "markdown",
   "metadata": {},
   "source": [
    "### Допълнителни изводи\n",
    "\n",
    "- Всеки от филмите има достатъчно сериозен брой ревюта (поне 2200)\n",
    "- Всеки потребител има поне 2 ревюта. \n",
    "- Следва да продължим със съпоставянето на данните от уникалните номера на филмите с конкретните заглавия"
   ]
  },
  {
   "cell_type": "code",
   "execution_count": 17,
   "metadata": {},
   "outputs": [
    {
     "data": {
      "text/html": [
       "<div>\n",
       "<style scoped>\n",
       "    .dataframe tbody tr th:only-of-type {\n",
       "        vertical-align: middle;\n",
       "    }\n",
       "\n",
       "    .dataframe tbody tr th {\n",
       "        vertical-align: top;\n",
       "    }\n",
       "\n",
       "    .dataframe thead th {\n",
       "        text-align: right;\n",
       "    }\n",
       "</style>\n",
       "<table border=\"1\" class=\"dataframe\">\n",
       "  <thead>\n",
       "    <tr style=\"text-align: right;\">\n",
       "      <th></th>\n",
       "      <th>Movie_Id</th>\n",
       "      <th>Year</th>\n",
       "      <th>Name</th>\n",
       "    </tr>\n",
       "  </thead>\n",
       "  <tbody>\n",
       "    <tr>\n",
       "      <th>0</th>\n",
       "      <td>1</td>\n",
       "      <td>2003.0</td>\n",
       "      <td>Dinosaur Planet</td>\n",
       "    </tr>\n",
       "    <tr>\n",
       "      <th>1</th>\n",
       "      <td>2</td>\n",
       "      <td>2004.0</td>\n",
       "      <td>Isle of Man TT 2004 Review</td>\n",
       "    </tr>\n",
       "    <tr>\n",
       "      <th>2</th>\n",
       "      <td>3</td>\n",
       "      <td>1997.0</td>\n",
       "      <td>Character</td>\n",
       "    </tr>\n",
       "    <tr>\n",
       "      <th>3</th>\n",
       "      <td>4</td>\n",
       "      <td>1994.0</td>\n",
       "      <td>Paula Abdul's Get Up &amp; Dance</td>\n",
       "    </tr>\n",
       "    <tr>\n",
       "      <th>4</th>\n",
       "      <td>5</td>\n",
       "      <td>2004.0</td>\n",
       "      <td>The Rise and Fall of ECW</td>\n",
       "    </tr>\n",
       "    <tr>\n",
       "      <th>5</th>\n",
       "      <td>6</td>\n",
       "      <td>1997.0</td>\n",
       "      <td>Sick</td>\n",
       "    </tr>\n",
       "    <tr>\n",
       "      <th>6</th>\n",
       "      <td>7</td>\n",
       "      <td>1992.0</td>\n",
       "      <td>8 Man</td>\n",
       "    </tr>\n",
       "    <tr>\n",
       "      <th>7</th>\n",
       "      <td>8</td>\n",
       "      <td>2004.0</td>\n",
       "      <td>What the #$*! Do We Know!?</td>\n",
       "    </tr>\n",
       "    <tr>\n",
       "      <th>8</th>\n",
       "      <td>9</td>\n",
       "      <td>1991.0</td>\n",
       "      <td>Class of Nuke 'Em High 2</td>\n",
       "    </tr>\n",
       "    <tr>\n",
       "      <th>9</th>\n",
       "      <td>10</td>\n",
       "      <td>2001.0</td>\n",
       "      <td>Fighter</td>\n",
       "    </tr>\n",
       "  </tbody>\n",
       "</table>\n",
       "</div>"
      ],
      "text/plain": [
       "   Movie_Id    Year                          Name\n",
       "0         1  2003.0               Dinosaur Planet\n",
       "1         2  2004.0    Isle of Man TT 2004 Review\n",
       "2         3  1997.0                     Character\n",
       "3         4  1994.0  Paula Abdul's Get Up & Dance\n",
       "4         5  2004.0      The Rise and Fall of ECW\n",
       "5         6  1997.0                          Sick\n",
       "6         7  1992.0                         8 Man\n",
       "7         8  2004.0    What the #$*! Do We Know!?\n",
       "8         9  1991.0      Class of Nuke 'Em High 2\n",
       "9        10  2001.0                       Fighter"
      ]
     },
     "execution_count": 17,
     "metadata": {},
     "output_type": "execute_result"
    }
   ],
   "source": [
    "df_title = pd.read_csv('movie_titles.csv', encoding = \"ISO-8859-1\", header = None, names = ['Movie_Id', 'Year', 'Name'])\n",
    "df_title.head(10)"
   ]
  },
  {
   "cell_type": "markdown",
   "metadata": {},
   "source": [
    "### Създаване на модел и трениране с данните\n",
    "\n",
    "Време е за същинската работа на алгоритъма. Използваме крос-валидация с разделяне на данните в 5 групи.\n",
    "За отчитане на грешките се използва мерките RMSE и MAE. "
   ]
  },
  {
   "cell_type": "code",
   "execution_count": 18,
   "metadata": {},
   "outputs": [
    {
     "name": "stdout",
     "output_type": "stream",
     "text": [
      "Evaluating RMSE, MAE of algorithm SVD on 5 split(s).\n",
      "\n",
      "                  Fold 1  Fold 2  Fold 3  Fold 4  Fold 5  Mean    Std     \n",
      "RMSE (testset)    0.9977  1.0058  1.0059  1.0056  1.0031  1.0036  0.0031  \n",
      "MAE (testset)     0.7853  0.7938  0.7924  0.7928  0.7917  0.7912  0.0030  \n",
      "Fit time          14.01   13.82   17.29   24.50   17.18   17.36   3.87    \n",
      "Test time         0.53    0.51    0.46    0.65    0.61    0.55    0.07    \n"
     ]
    },
    {
     "data": {
      "text/plain": [
       "{'test_rmse': array([0.99772763, 1.00576907, 1.00591249, 1.00557572, 1.00305503]),\n",
       " 'test_mae': array([0.78534419, 0.79383643, 0.79238236, 0.79277016, 0.79174103]),\n",
       " 'fit_time': (14.012413501739502,\n",
       "  13.823903322219849,\n",
       "  17.294578552246094,\n",
       "  24.498799562454224,\n",
       "  17.17684578895569),\n",
       " 'test_time': (0.5266149044036865,\n",
       "  0.5126292705535889,\n",
       "  0.46276187896728516,\n",
       "  0.6513533592224121,\n",
       "  0.6137173175811768)}"
      ]
     },
     "execution_count": 18,
     "metadata": {},
     "output_type": "execute_result"
    }
   ],
   "source": [
    "reader = Reader()\n",
    "\n",
    "data = Dataset.load_from_df(df[['Cust_Id', 'Movie_Id', 'Rating']], reader)\n",
    "svd = SVD()\n",
    "\n",
    "cross_validate(svd, data, measures=['RMSE', 'MAE'], cv=5, verbose=True)"
   ]
  },
  {
   "cell_type": "markdown",
   "metadata": {},
   "source": [
    "### Въвеждане на пълните данни\n",
    "\n",
    "Моделът дава доста добри показатели. След като той вече е трениран, е време да го обучим с целия обем данни."
   ]
  },
  {
   "cell_type": "code",
   "execution_count": 19,
   "metadata": {},
   "outputs": [
    {
     "data": {
      "text/plain": [
       "<surprise.prediction_algorithms.matrix_factorization.SVD at 0x1e781a536d0>"
      ]
     },
     "execution_count": 19,
     "metadata": {},
     "output_type": "execute_result"
    }
   ],
   "source": [
    "trainset = data.build_full_trainset()\n",
    "svd.fit(trainset)"
   ]
  },
  {
   "cell_type": "markdown",
   "metadata": {},
   "source": [
    "Моделът вече е готов за даване на препоръки. Ето кои са филмите, които е оценил с оценка над 2 даден потребител с уникален номер 573364.\n"
   ]
  },
  {
   "cell_type": "code",
   "execution_count": 20,
   "metadata": {},
   "outputs": [
    {
     "data": {
      "text/plain": [
       "Movie_Id\n",
       "4500    Open Hearts\n",
       "4570           Mast\n",
       "4577     Red Lights\n",
       "Name: Name, dtype: object"
      ]
     },
     "execution_count": 20,
     "metadata": {},
     "output_type": "execute_result"
    }
   ],
   "source": [
    "df_573364 = df[(df['Cust_Id'] == '573364') & (df['Rating'] > 2)]\n",
    "df_573364 = df_573364.set_index('Movie_Id')\n",
    "df_573364 = df_573364.join(df_title)['Name']\n",
    "df_573364.head(df_573364.shape[0])"
   ]
  },
  {
   "cell_type": "markdown",
   "metadata": {},
   "source": [
    "### Препоръки\n",
    "\n",
    "А това са филмите, които би препоръчал алгоритъмът на базата на тези оценки и предпологаемите оценки, които би им поставил потребителят."
   ]
  },
  {
   "cell_type": "code",
   "execution_count": 21,
   "metadata": {},
   "outputs": [
    {
     "data": {
      "text/html": [
       "<div>\n",
       "<style scoped>\n",
       "    .dataframe tbody tr th:only-of-type {\n",
       "        vertical-align: middle;\n",
       "    }\n",
       "\n",
       "    .dataframe tbody tr th {\n",
       "        vertical-align: top;\n",
       "    }\n",
       "\n",
       "    .dataframe thead th {\n",
       "        text-align: right;\n",
       "    }\n",
       "</style>\n",
       "<table border=\"1\" class=\"dataframe\">\n",
       "  <thead>\n",
       "    <tr style=\"text-align: right;\">\n",
       "      <th></th>\n",
       "      <th>Movie_Id</th>\n",
       "      <th>Year</th>\n",
       "      <th>Name</th>\n",
       "      <th>Estimate_Score</th>\n",
       "    </tr>\n",
       "  </thead>\n",
       "  <tbody>\n",
       "    <tr>\n",
       "      <th>4530</th>\n",
       "      <td>4531</td>\n",
       "      <td>2004.0</td>\n",
       "      <td>The Best of Triumph the Insult Comic Dog</td>\n",
       "      <td>4.111764</td>\n",
       "    </tr>\n",
       "    <tr>\n",
       "      <th>4508</th>\n",
       "      <td>4509</td>\n",
       "      <td>1977.0</td>\n",
       "      <td>Little House on the Prairie: Season 4</td>\n",
       "      <td>4.049593</td>\n",
       "    </tr>\n",
       "    <tr>\n",
       "      <th>4574</th>\n",
       "      <td>4575</td>\n",
       "      <td>1969.0</td>\n",
       "      <td>Scooby-Doo Where Are You?: Seasons 1 &amp; 2</td>\n",
       "      <td>4.015605</td>\n",
       "    </tr>\n",
       "    <tr>\n",
       "      <th>4560</th>\n",
       "      <td>4561</td>\n",
       "      <td>1999.0</td>\n",
       "      <td>Everybody Loves Raymond: Season 4</td>\n",
       "      <td>3.996140</td>\n",
       "    </tr>\n",
       "    <tr>\n",
       "      <th>4505</th>\n",
       "      <td>4506</td>\n",
       "      <td>1961.0</td>\n",
       "      <td>Breakfast at Tiffany's</td>\n",
       "      <td>3.971410</td>\n",
       "    </tr>\n",
       "    <tr>\n",
       "      <th>4520</th>\n",
       "      <td>4521</td>\n",
       "      <td>2002.0</td>\n",
       "      <td>Wire in the Blood: Justice Painted Blind</td>\n",
       "      <td>3.968801</td>\n",
       "    </tr>\n",
       "    <tr>\n",
       "      <th>4544</th>\n",
       "      <td>4545</td>\n",
       "      <td>1990.0</td>\n",
       "      <td>Dances With Wolves: Special Edition</td>\n",
       "      <td>3.948853</td>\n",
       "    </tr>\n",
       "    <tr>\n",
       "      <th>4558</th>\n",
       "      <td>4559</td>\n",
       "      <td>1974.0</td>\n",
       "      <td>Hearts and Minds</td>\n",
       "      <td>3.947487</td>\n",
       "    </tr>\n",
       "    <tr>\n",
       "      <th>4576</th>\n",
       "      <td>4577</td>\n",
       "      <td>1989.0</td>\n",
       "      <td>Steel Magnolias</td>\n",
       "      <td>3.919479</td>\n",
       "    </tr>\n",
       "    <tr>\n",
       "      <th>4521</th>\n",
       "      <td>4522</td>\n",
       "      <td>1998.0</td>\n",
       "      <td>Independent's Day</td>\n",
       "      <td>3.854927</td>\n",
       "    </tr>\n",
       "  </tbody>\n",
       "</table>\n",
       "</div>"
      ],
      "text/plain": [
       "      Movie_Id    Year                                      Name  \\\n",
       "4530      4531  2004.0  The Best of Triumph the Insult Comic Dog   \n",
       "4508      4509  1977.0     Little House on the Prairie: Season 4   \n",
       "4574      4575  1969.0  Scooby-Doo Where Are You?: Seasons 1 & 2   \n",
       "4560      4561  1999.0         Everybody Loves Raymond: Season 4   \n",
       "4505      4506  1961.0                    Breakfast at Tiffany's   \n",
       "4520      4521  2002.0  Wire in the Blood: Justice Painted Blind   \n",
       "4544      4545  1990.0       Dances With Wolves: Special Edition   \n",
       "4558      4559  1974.0                          Hearts and Minds   \n",
       "4576      4577  1989.0                           Steel Magnolias   \n",
       "4521      4522  1998.0                         Independent's Day   \n",
       "\n",
       "      Estimate_Score  \n",
       "4530        4.111764  \n",
       "4508        4.049593  \n",
       "4574        4.015605  \n",
       "4560        3.996140  \n",
       "4505        3.971410  \n",
       "4520        3.968801  \n",
       "4544        3.948853  \n",
       "4558        3.947487  \n",
       "4576        3.919479  \n",
       "4521        3.854927  "
      ]
     },
     "execution_count": 21,
     "metadata": {},
     "output_type": "execute_result"
    }
   ],
   "source": [
    "titles = df_title.copy()\n",
    "\n",
    "titles['Estimate_Score'] = titles['Movie_Id'].apply(lambda x: svd.predict(573364, x).est)\n",
    "titles = titles.sort_values(by=['Estimate_Score'], ascending=False)\n",
    "titles.head(10)"
   ]
  },
  {
   "cell_type": "markdown",
   "metadata": {},
   "source": [
    "Трансформираме данните в пивот таблица, за да потърсим връзките между филми. Кои филми би препоръчал алгоритъмът ни на базата на това, че дадени зрители са оценили високо друг филм."
   ]
  },
  {
   "cell_type": "code",
   "execution_count": 22,
   "metadata": {},
   "outputs": [
    {
     "data": {
      "text/html": [
       "<div>\n",
       "<style scoped>\n",
       "    .dataframe tbody tr th:only-of-type {\n",
       "        vertical-align: middle;\n",
       "    }\n",
       "\n",
       "    .dataframe tbody tr th {\n",
       "        vertical-align: top;\n",
       "    }\n",
       "\n",
       "    .dataframe thead th {\n",
       "        text-align: right;\n",
       "    }\n",
       "</style>\n",
       "<table border=\"1\" class=\"dataframe\">\n",
       "  <thead>\n",
       "    <tr style=\"text-align: right;\">\n",
       "      <th>Movie_Id</th>\n",
       "      <th>4500</th>\n",
       "      <th>4501</th>\n",
       "      <th>4502</th>\n",
       "      <th>4503</th>\n",
       "      <th>4504</th>\n",
       "      <th>4505</th>\n",
       "      <th>4506</th>\n",
       "      <th>4507</th>\n",
       "      <th>4508</th>\n",
       "      <th>4509</th>\n",
       "      <th>...</th>\n",
       "      <th>4568</th>\n",
       "      <th>4569</th>\n",
       "      <th>4570</th>\n",
       "      <th>4571</th>\n",
       "      <th>4572</th>\n",
       "      <th>4573</th>\n",
       "      <th>4574</th>\n",
       "      <th>4575</th>\n",
       "      <th>4576</th>\n",
       "      <th>4577</th>\n",
       "    </tr>\n",
       "    <tr>\n",
       "      <th>Cust_Id</th>\n",
       "      <th></th>\n",
       "      <th></th>\n",
       "      <th></th>\n",
       "      <th></th>\n",
       "      <th></th>\n",
       "      <th></th>\n",
       "      <th></th>\n",
       "      <th></th>\n",
       "      <th></th>\n",
       "      <th></th>\n",
       "      <th></th>\n",
       "      <th></th>\n",
       "      <th></th>\n",
       "      <th></th>\n",
       "      <th></th>\n",
       "      <th></th>\n",
       "      <th></th>\n",
       "      <th></th>\n",
       "      <th></th>\n",
       "      <th></th>\n",
       "      <th></th>\n",
       "    </tr>\n",
       "  </thead>\n",
       "  <tbody>\n",
       "    <tr>\n",
       "      <th>100000</th>\n",
       "      <td>NaN</td>\n",
       "      <td>NaN</td>\n",
       "      <td>NaN</td>\n",
       "      <td>NaN</td>\n",
       "      <td>NaN</td>\n",
       "      <td>NaN</td>\n",
       "      <td>NaN</td>\n",
       "      <td>NaN</td>\n",
       "      <td>NaN</td>\n",
       "      <td>NaN</td>\n",
       "      <td>...</td>\n",
       "      <td>NaN</td>\n",
       "      <td>NaN</td>\n",
       "      <td>NaN</td>\n",
       "      <td>NaN</td>\n",
       "      <td>NaN</td>\n",
       "      <td>NaN</td>\n",
       "      <td>NaN</td>\n",
       "      <td>NaN</td>\n",
       "      <td>NaN</td>\n",
       "      <td>NaN</td>\n",
       "    </tr>\n",
       "    <tr>\n",
       "      <th>1000062</th>\n",
       "      <td>NaN</td>\n",
       "      <td>NaN</td>\n",
       "      <td>NaN</td>\n",
       "      <td>NaN</td>\n",
       "      <td>NaN</td>\n",
       "      <td>NaN</td>\n",
       "      <td>NaN</td>\n",
       "      <td>NaN</td>\n",
       "      <td>NaN</td>\n",
       "      <td>NaN</td>\n",
       "      <td>...</td>\n",
       "      <td>NaN</td>\n",
       "      <td>NaN</td>\n",
       "      <td>3.0</td>\n",
       "      <td>NaN</td>\n",
       "      <td>NaN</td>\n",
       "      <td>NaN</td>\n",
       "      <td>NaN</td>\n",
       "      <td>NaN</td>\n",
       "      <td>NaN</td>\n",
       "      <td>NaN</td>\n",
       "    </tr>\n",
       "    <tr>\n",
       "      <th>1000079</th>\n",
       "      <td>NaN</td>\n",
       "      <td>NaN</td>\n",
       "      <td>NaN</td>\n",
       "      <td>NaN</td>\n",
       "      <td>NaN</td>\n",
       "      <td>NaN</td>\n",
       "      <td>NaN</td>\n",
       "      <td>NaN</td>\n",
       "      <td>NaN</td>\n",
       "      <td>NaN</td>\n",
       "      <td>...</td>\n",
       "      <td>2.0</td>\n",
       "      <td>NaN</td>\n",
       "      <td>NaN</td>\n",
       "      <td>NaN</td>\n",
       "      <td>NaN</td>\n",
       "      <td>NaN</td>\n",
       "      <td>NaN</td>\n",
       "      <td>NaN</td>\n",
       "      <td>NaN</td>\n",
       "      <td>NaN</td>\n",
       "    </tr>\n",
       "    <tr>\n",
       "      <th>1000084</th>\n",
       "      <td>NaN</td>\n",
       "      <td>NaN</td>\n",
       "      <td>NaN</td>\n",
       "      <td>NaN</td>\n",
       "      <td>NaN</td>\n",
       "      <td>NaN</td>\n",
       "      <td>NaN</td>\n",
       "      <td>NaN</td>\n",
       "      <td>NaN</td>\n",
       "      <td>NaN</td>\n",
       "      <td>...</td>\n",
       "      <td>NaN</td>\n",
       "      <td>NaN</td>\n",
       "      <td>NaN</td>\n",
       "      <td>NaN</td>\n",
       "      <td>NaN</td>\n",
       "      <td>NaN</td>\n",
       "      <td>NaN</td>\n",
       "      <td>NaN</td>\n",
       "      <td>NaN</td>\n",
       "      <td>NaN</td>\n",
       "    </tr>\n",
       "    <tr>\n",
       "      <th>1000095</th>\n",
       "      <td>NaN</td>\n",
       "      <td>NaN</td>\n",
       "      <td>NaN</td>\n",
       "      <td>NaN</td>\n",
       "      <td>NaN</td>\n",
       "      <td>NaN</td>\n",
       "      <td>NaN</td>\n",
       "      <td>NaN</td>\n",
       "      <td>NaN</td>\n",
       "      <td>NaN</td>\n",
       "      <td>...</td>\n",
       "      <td>NaN</td>\n",
       "      <td>NaN</td>\n",
       "      <td>NaN</td>\n",
       "      <td>NaN</td>\n",
       "      <td>NaN</td>\n",
       "      <td>NaN</td>\n",
       "      <td>NaN</td>\n",
       "      <td>NaN</td>\n",
       "      <td>NaN</td>\n",
       "      <td>NaN</td>\n",
       "    </tr>\n",
       "  </tbody>\n",
       "</table>\n",
       "<p>5 rows × 78 columns</p>\n",
       "</div>"
      ],
      "text/plain": [
       "Movie_Id  4500  4501  4502  4503  4504  4505  4506  4507  4508  4509  ...  \\\n",
       "Cust_Id                                                               ...   \n",
       "100000     NaN   NaN   NaN   NaN   NaN   NaN   NaN   NaN   NaN   NaN  ...   \n",
       "1000062    NaN   NaN   NaN   NaN   NaN   NaN   NaN   NaN   NaN   NaN  ...   \n",
       "1000079    NaN   NaN   NaN   NaN   NaN   NaN   NaN   NaN   NaN   NaN  ...   \n",
       "1000084    NaN   NaN   NaN   NaN   NaN   NaN   NaN   NaN   NaN   NaN  ...   \n",
       "1000095    NaN   NaN   NaN   NaN   NaN   NaN   NaN   NaN   NaN   NaN  ...   \n",
       "\n",
       "Movie_Id  4568  4569  4570  4571  4572  4573  4574  4575  4576  4577  \n",
       "Cust_Id                                                               \n",
       "100000     NaN   NaN   NaN   NaN   NaN   NaN   NaN   NaN   NaN   NaN  \n",
       "1000062    NaN   NaN   3.0   NaN   NaN   NaN   NaN   NaN   NaN   NaN  \n",
       "1000079    2.0   NaN   NaN   NaN   NaN   NaN   NaN   NaN   NaN   NaN  \n",
       "1000084    NaN   NaN   NaN   NaN   NaN   NaN   NaN   NaN   NaN   NaN  \n",
       "1000095    NaN   NaN   NaN   NaN   NaN   NaN   NaN   NaN   NaN   NaN  \n",
       "\n",
       "[5 rows x 78 columns]"
      ]
     },
     "execution_count": 22,
     "metadata": {},
     "output_type": "execute_result"
    }
   ],
   "source": [
    "df_p = pd.pivot_table(df,values='Rating',index='Cust_Id',columns='Movie_Id')\n",
    "df_p.head()"
   ]
  },
  {
   "cell_type": "code",
   "execution_count": 23,
   "metadata": {},
   "outputs": [],
   "source": [
    "def recommend(movie_title, min_count):\n",
    "  print(\"За филма {}\".format(movie_title))\n",
    "  print(\"Топ 10 филмови препоръки, базирани на коефициента на Пиърсън - \")\n",
    "  i = int(df_title.index[df_title['Name'] == movie_title][0])\n",
    "  target = df_p[i]\n",
    "  similar_to_target = df_p.corrwith(target)\n",
    "  corr_target = pd.DataFrame(similar_to_target, columns = ['PearsonR'])\n",
    "  corr_target.dropna(inplace = True)\n",
    "  corr_target = corr_target.sort_values('PearsonR', ascending = False)\n",
    "  corr_target.index = corr_target.index.map(int)\n",
    "  corr_target = corr_target.join(df_title).join(df_movie_summary)[['PearsonR', 'Name', 'count', 'mean']]\n",
    "  print(corr_target[corr_target['count']>min_count][:10].to_string(index=False))"
   ]
  },
  {
   "cell_type": "markdown",
   "metadata": {},
   "source": [
    "Филми, които алгоритъмът препоръчва на харесалите „Пипи Дългото Чорапче“ на базата на коефициента на Пиърсън."
   ]
  },
  {
   "cell_type": "code",
   "execution_count": 24,
   "metadata": {},
   "outputs": [
    {
     "name": "stdout",
     "output_type": "stream",
     "text": [
      "За филма Pippi on the Run\n",
      "Топ 10 филмови препоръки, базирани на коефициента на Пиърсън - \n",
      " PearsonR                        Name  count      mean\n",
      "      1.0            Pippi on the Run     92  2.771739\n",
      "      1.0                      Bat 21    204  3.328431\n",
      "      1.0                   Def Con 4    245  3.661224\n",
      "      1.0           Independent's Day    962  3.965696\n",
      "      1.0  The Falcon and the Snowman    164  2.609756\n",
      "      1.0               Stealing Time    197  3.568528\n",
      "      1.0             Steel Magnolias    122  3.704918\n",
      "      1.0            The Cherokee Kid    116  3.000000\n",
      "      1.0                  Jennifer 8     92  1.880435\n",
      "      1.0                  Mixed Nuts    116  2.948276\n"
     ]
    }
   ],
   "source": [
    "recommend(\"Pippi on the Run\", 0)"
   ]
  },
  {
   "cell_type": "markdown",
   "metadata": {},
   "source": [
    "## Използвани източници\n",
    "\n",
    "- [Google Developers](https://developers.google.com/machine-learning/recommendation)\n",
    "- [Machine Learning for Building Recommender System in Python](https://towardsdatascience.com/machine-learning-for-building-recommender-system-in-python-9e4922dd7e97)\n",
    "- [Recommender Systems](https://www.ritchieng.com/machine-learning-recommender-systems/)\n",
    "- [Recommendation-System](https://github.com/Ireneyou33/Recommendation-System)"
   ]
  }
 ],
 "metadata": {
  "kernelspec": {
   "display_name": "Python 3",
   "language": "python",
   "name": "python3"
  },
  "language_info": {
   "codemirror_mode": {
    "name": "ipython",
    "version": 3
   },
   "file_extension": ".py",
   "mimetype": "text/x-python",
   "name": "python",
   "nbconvert_exporter": "python",
   "pygments_lexer": "ipython3",
   "version": "3.8.5"
  }
 },
 "nbformat": 4,
 "nbformat_minor": 2
}
